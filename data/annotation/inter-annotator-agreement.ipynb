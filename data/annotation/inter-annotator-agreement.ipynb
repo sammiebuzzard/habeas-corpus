{
 "cells": [
  {
   "cell_type": "markdown",
   "id": "b898f089",
   "metadata": {},
   "source": [
    "# Calculating inter-annotator agreement\n",
    "\n",
    "In this notebook, inter-annotator agreement is determined on a sample of 50 items in the 1000 item random sample."
   ]
  },
  {
   "cell_type": "markdown",
   "id": "1e094abf",
   "metadata": {},
   "source": [
    "First up, we need to import the data into a form that makes it usable. For this, we read the CSV into pandas dataframes."
   ]
  },
  {
   "cell_type": "code",
   "execution_count": null,
   "id": "4f63ac35",
   "metadata": {
    "pycharm": {
     "name": "#%%\n"
    }
   },
   "outputs": [],
   "source": [
    "# Build matrices\n",
    "import pandas as pd\n",
    "import numpy as np\n",
    "\n",
    "df_sb = pd.read_csv('iaa/IAA_SB.csv', keep_default_na=False, na_values=['_'])\n",
    "df_nch = pd.read_csv('iaa/IAA_NCH.csv', keep_default_na=False, na_values=['_'])\n",
    "df_sd = pd.read_csv('iaa/IAA_SD.csv', keep_default_na=False, na_values=['_'])"
   ]
  },
  {
   "cell_type": "markdown",
   "id": "3ee8ce22",
   "metadata": {},
   "source": [
    "The sample has been manually pre-cleaned, so that all empty cells in `preprint` and `software_paper` have been set to `N`. Also, all variances in \"Yes/No\" answers have been normalized to `N` and `Y`."
   ]
  },
  {
   "cell_type": "code",
   "execution_count": null,
   "id": "411c4ee4",
   "metadata": {},
   "outputs": [],
   "source": [
    "# Drop the line with a duplicate MAIN annotation\n",
    "df_sb = df_sb.drop(df_sb.index[12])\n",
    "df_nch = df_nch.drop(df_nch.index[12])\n",
    "df_sd = df_sd.drop(df_sd.index[12])"
   ]
  },
  {
   "cell_type": "markdown",
   "id": "affde0ab",
   "metadata": {},
   "source": [
    "To calculate inter-annotator agreement, we need to transform the categorical data into numerical data.\n",
    "Therefore, let's have a look at the annotation categories and how they transform into ints.\n",
    "\n",
    "We are working on **nominal scales**, so the actual int values have no mathematical meaning.\n",
    "\n",
    "### MAIN category\n",
    "\n",
    "- 1: PRO\n",
    "- 2: PUB\n",
    "- 3: MAN\n",
    "- 4: URL\n",
    "- 5: INS\n",
    "- 6: NAM\n",
    "- 7: NOT\n",
    "\n",
    "### QA Layer\n",
    "\n",
    "- 1: SC\n",
    "- 2: SN\n",
    "- 3: SF\n",
    "- 4: NA\n",
    "- 5: UN\n",
    "\n",
    "### QA retrieval\n",
    "\n",
    "- 1: Y (Yes)\n",
    "- 2: N (No)\n",
    "\n",
    "### Preprint\n",
    "\n",
    "- 1: Y (Yes)\n",
    "- 2: N (No)\n",
    "\n",
    "### Software paper\n",
    "\n",
    "- 1: Y (Yes)\n",
    "- 2: N (No)\n",
    "\n",
    "### Confidence\n",
    "\n",
    "- 1: Y (Yes)\n",
    "- 2: N (No)\n",
    "\n",
    "Let's put these in a dict of dicts for programmatic access.\n",
    "\n",
    "#### Nominal vs. binary data\n",
    "\n",
    "The last four categories are effectively binary data. Both Fleiss' kappa dn Krippendorff's alpha support nominal and binary."
   ]
  },
  {
   "cell_type": "code",
   "execution_count": null,
   "id": "4bd63fac",
   "metadata": {},
   "outputs": [],
   "source": [
    "str_num_map = {\n",
    "    'MAIN': {'PRO': 1, 'PUB': 2, 'MAN': 3, 'URL': 4, 'INS': 5, 'NAM': 6, 'NOT': 7},\n",
    "    'QA': {'SC': 1, 'SN': 2, 'SF': 3, 'NA': 4, 'UN': 5},\n",
    "    'QA_retrieval': {'Y': 1, 'N': 2},\n",
    "    'preprint': {'Y': 1, 'N': 2},\n",
    "    'software_paper': {'Y': 1, 'N': 2},\n",
    "    'confidence': {'Y': 1, 'N': 2}\n",
    "}"
   ]
  },
  {
   "cell_type": "markdown",
   "id": "f59da867",
   "metadata": {},
   "source": [
    "Before we can replace the string values with numericals, some normalization has to be done."
   ]
  },
  {
   "cell_type": "code",
   "execution_count": null,
   "id": "9706eb8d",
   "metadata": {},
   "outputs": [],
   "source": [
    "#for df in [df_sb, df_nch, df_sd]:\n",
    "#    for col_name in binary_cols:\n",
    "#        df[col_name] = df[col_name].replace(['YES', 'Yes'],'Y')\n",
    "#        df[col_name] = df[col_name].replace(['NO', 'No'],'N')"
   ]
  },
  {
   "cell_type": "markdown",
   "id": "78d3e169",
   "metadata": {},
   "source": [
    "Now we can replace the string categories with numericals."
   ]
  },
  {
   "cell_type": "code",
   "execution_count": null,
   "id": "ce439c1f",
   "metadata": {},
   "outputs": [],
   "source": [
    "df_sb = df_sb.replace(str_num_map)\n",
    "df_nch = df_nch.replace(str_num_map)\n",
    "df_sd = df_sd.replace(str_num_map)\n",
    "\n",
    "#df_sb = df_sb.replace('', 0)\n",
    "#df_nch = df_nch.replace('', 0)\n",
    "#df_sd = df_sd.replace('', 0)"
   ]
  },
  {
   "cell_type": "markdown",
   "id": "c8380df2",
   "metadata": {},
   "source": [
    "Create numpy arrays for the single annotation categories with values from all dataframes."
   ]
  },
  {
   "cell_type": "code",
   "execution_count": null,
   "id": "aba3af52",
   "metadata": {},
   "outputs": [],
   "source": [
    "main_sb = df_sb['MAIN'].to_numpy()\n",
    "main_nch = df_nch['MAIN'].to_numpy()\n",
    "main_sd = df_sd['MAIN'].to_numpy()\n",
    "main = np.array([main_sb, main_nch, main_sd])\n",
    "print(main)\n",
    "\n",
    "qa_sb = df_sb['QA'].to_numpy()\n",
    "qa_nch = df_nch['QA'].to_numpy()\n",
    "qa_sd = df_sd['QA'].to_numpy()\n",
    "qa = np.array([qa_sb, qa_nch, qa_sd])\n",
    "print(qa)\n",
    "\n",
    "qa_ret_sb = df_sb['QA_retrieval'].to_numpy()\n",
    "qa_ret_nch = df_nch['QA_retrieval'].to_numpy()\n",
    "qa_ret_sd = df_sd['QA_retrieval'].to_numpy()\n",
    "qa_ret = np.array([qa_ret_sb, qa_ret_nch, qa_ret_sd])\n",
    "print(qa_ret)\n",
    "\n",
    "preprint_sb = df_sb['preprint'].to_numpy()\n",
    "preprint_nch = df_nch['preprint'].to_numpy()\n",
    "preprint_sd = df_sd['preprint'].to_numpy()\n",
    "preprint = np.array([preprint_sb, preprint_nch, preprint_sd])\n",
    "print(preprint)\n",
    "\n",
    "swpap_sb = df_sb['software_paper'].to_numpy()\n",
    "swpap_nch = df_nch['software_paper'].to_numpy()\n",
    "swpap_sd = df_sd['software_paper'].to_numpy()\n",
    "swpap = np.array([swpap_sb, swpap_nch, swpap_sd])\n",
    "print(swpap)"
   ]
  },
  {
   "cell_type": "markdown",
   "id": "dd0ea4e5",
   "metadata": {},
   "source": [
    "### Compute IAA scores"
   ]
  },
  {
   "cell_type": "code",
   "execution_count": null,
   "id": "d306547f",
   "metadata": {},
   "outputs": [],
   "source": [
    "########### MAIN\n",
    "import krippendorff as kd\n",
    "main_alpha1 = kd.alpha(main, level_of_measurement='nominal')\n",
    "print(f\"MAIN - Krippendorff's alpha: {main_alpha1}\")\n",
    "\n",
    "########### QA\n",
    "# Compute Krippendorf's alpha\n",
    "qa_alpha1 = kd.alpha(qa, level_of_measurement='nominal')\n",
    "print(f\"QA - Krippendorff's alpha: {qa_alpha1}\")\n",
    "\n",
    "########### QA_retrieval\n",
    "# Compute Krippendorf's alpha\n",
    "qa_ret_alpha1 = kd.alpha(qa_ret, level_of_measurement='nominal')\n",
    "print(f\"QA_retrieval - Krippendorff's alpha: {qa_ret_alpha1}\")\n",
    "\n",
    "########### preprint\n",
    "# Compute Krippendorf's alpha\n",
    "preprint_alpha1 = kd.alpha(preprint, level_of_measurement='nominal')\n",
    "print(f\"preprint - Krippendorff's alpha: {preprint_alpha1}\")\n",
    "\n",
    "########### software_paper\n",
    "# Compute Krippendorf's alpha\n",
    "swpap_alpha1 = kd.alpha(swpap, level_of_measurement='nominal')\n",
    "print(f\"software_paper - Krippendorff's alpha: {swpap_alpha1}\")"
   ]
  },
  {
   "cell_type": "markdown",
   "id": "d6dc4eca",
   "metadata": {},
   "source": [
    "Calculate average for Krippendorf's alpha across all categories."
   ]
  },
  {
   "cell_type": "code",
   "execution_count": null,
   "id": "0fd4984e",
   "metadata": {},
   "outputs": [],
   "source": [
    "avg = (main_alpha1 + qa_alpha1 + qa_ret_alpha1 + preprint_alpha1 + swpap_alpha1) / 5\n",
    "print(f'Average alpha: {avg}.')"
   ]
  }
 ],
 "metadata": {
  "kernelspec": {
   "display_name": "Python 3 (ipykernel)",
   "language": "python",
   "name": "python3"
  },
  "language_info": {
   "codemirror_mode": {
    "name": "ipython",
    "version": 3
   },
   "file_extension": ".py",
   "mimetype": "text/x-python",
   "name": "python",
   "nbconvert_exporter": "python",
   "pygments_lexer": "ipython3",
   "version": "3.8.10"
  }
 },
 "nbformat": 4,
 "nbformat_minor": 5
}
