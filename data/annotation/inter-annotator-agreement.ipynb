{
 "cells": [
  {
   "cell_type": "markdown",
   "id": "b898f089",
   "metadata": {},
   "source": [
    "# Calculating inter-annotator agreement\n",
    "\n",
    "In this notebook, inter-annotator agreement is determined on a sample of 50 items in the 1000 item random sample."
   ]
  },
  {
   "cell_type": "code",
   "execution_count": null,
   "id": "43f77e86",
   "metadata": {},
   "outputs": [],
   "source": [
    "import numpy as np\n",
    "\n",
    "# Define Fleiss' kappa calculation\n",
    "# Taken from https://gist.github.com/LouisdeBruijn/9dced57c54e0029e29cdfcfb2e54a8c8#file-fleis_kappa-py\n",
    "def fleiss_kappa(M):\n",
    "    \"\"\"Computes Fleiss' kappa for group of annotators.\n",
    "    :param M: a matrix of shape (:attr:'N', :attr:'k') with 'N' = number of subjects and 'k' = the number of categories.\n",
    "        'M[i, j]' represent the number of raters who assigned the 'i'th subject to the 'j'th category.\n",
    "    :type: numpy matrix\n",
    "    :rtype: float\n",
    "    :return: Fleiss' kappa score\n",
    "    \"\"\"\n",
    "    N, k = M.shape  # N is # of items, k is # of categories\n",
    "    n_annotators = float(np.sum(M[0, :]))  # # of annotators\n",
    "    tot_annotations = N * n_annotators  # the total # of annotations\n",
    "    category_sum = np.sum(M, axis=0)  # the sum of each category over all items\n",
    "\n",
    "    # chance agreement\n",
    "    p = category_sum / tot_annotations  # the distribution of each category over all annotations\n",
    "    PbarE = np.sum(p * p)  # average chance agreement over all categories\n",
    "\n",
    "    # observed agreement\n",
    "    P = (np.sum(M * M, axis=1) - n_annotators) / (n_annotators * (n_annotators - 1))\n",
    "    Pbar = np.sum(P) / N  # add all observed agreement chances per item and divide by amount of items\n",
    "\n",
    "    return round((Pbar - PbarE) / (1 - PbarE), 4)"
   ]
  },
  {
   "cell_type": "markdown",
   "id": "1e094abf",
   "metadata": {},
   "source": [
    "First up, we need to import the data into a form that makes it usable. For this, we read the CSV into pandas dataframes."
   ]
  },
  {
   "cell_type": "code",
   "execution_count": null,
   "id": "4f63ac35",
   "metadata": {
    "pycharm": {
     "name": "#%%\n"
    }
   },
   "outputs": [],
   "source": [
    "# Build matrices\n",
    "import pandas as pd\n",
    "\n",
    "df_sb = pd.read_csv('1000sample_SB_ForInterAnnotator.csv', keep_default_na=False, na_values=['_'])\n",
    "df_nch = pd.read_csv('1000sample_NCH_ForInterAnnotator.csv', keep_default_na=False, na_values=['_'])\n",
    "df_sd = pd.read_csv('1000sample_SD_ForInterAnnotator.csv', keep_default_na=False, na_values=['_'])"
   ]
  },
  {
   "cell_type": "markdown",
   "id": "3ee8ce22",
   "metadata": {},
   "source": [
    "We're only going to use items 101-150 for calculating the IAA, and only a subset of columns, so let's chop the dataframes down a bit."
   ]
  },
  {
   "cell_type": "code",
   "execution_count": null,
   "id": "411c4ee4",
   "metadata": {},
   "outputs": [],
   "source": [
    "target_cols = ['software', 'MAIN', 'QA', 'QA_retrieval', 'preprint', 'software_paper']\n",
    "df_sb = df_sb[target_cols]\n",
    "df_sb = df_sb.iloc[100:150, :]\n",
    "df_nch = df_nch[target_cols]\n",
    "df_nch = df_nch.iloc[100:150, :]\n",
    "df_sd = df_sd[target_cols]\n",
    "df_sd = df_sd.iloc[100:150, :]\n",
    "\n",
    "# Drop the line with a duplicate MAIN annotation\n",
    "df_sb = df_sb.drop(df_sb.index[12])\n",
    "df_nch = df_nch.drop(df_nch.index[12])\n",
    "df_sd = df_sd.drop(df_sd.index[12])\n",
    "\n",
    "# Also keep the names of the columns containing binary data\n",
    "binary_cols = target_cols[3:]\n",
    "binary_cols"
   ]
  },
  {
   "cell_type": "markdown",
   "id": "2b8b740c",
   "metadata": {},
   "source": []
  },
  {
   "cell_type": "markdown",
   "id": "affde0ab",
   "metadata": {},
   "source": [
    "To calculate inter-annotator agreement, we need to transform the categorical data into numerical data.\n",
    "Therefore, let's have a look at the annotation categories and how they transform into ints.\n",
    "\n",
    "We are working on **nominal scales**, so the actual int values have no mathematical meaning.\n",
    "\n",
    "### MAIN category\n",
    "\n",
    "- 1: PRO\n",
    "- 2: PUB\n",
    "- 3: MAN\n",
    "- 4: URL\n",
    "- 5: INS\n",
    "- 6: NAM\n",
    "- 7: NOT\n",
    "\n",
    "### QA Layer\n",
    "\n",
    "- 1: SC\n",
    "- 2: SN\n",
    "- 3: SF\n",
    "- 4: NA\n",
    "- 5: UN\n",
    "\n",
    "### QA retrieval\n",
    "\n",
    "- 1: Y (Yes)\n",
    "- 2: N (No)\n",
    "\n",
    "### Preprint\n",
    "\n",
    "- 1: Y (Yes)\n",
    "- 2: N (No)\n",
    "\n",
    "### Software paper\n",
    "\n",
    "- 1: Y (Yes)\n",
    "- 2: N (No)\n",
    "\n",
    "### Confidence\n",
    "\n",
    "- 1: Y (Yes)\n",
    "- 2: N (No)\n",
    "\n",
    "Let's put these in a dict of dicts for programmatic access.\n",
    "\n",
    "#### Nominal vs. binary data\n",
    "\n",
    "The last four categories are effectively binary data. Both Fleiss' kappa dn Krippendorff's alpha support nominal and binary."
   ]
  },
  {
   "cell_type": "code",
   "execution_count": null,
   "id": "4bd63fac",
   "metadata": {},
   "outputs": [],
   "source": [
    "str_num_map = {\n",
    "    'MAIN': {'PRO': 1, 'PUB': 2, 'MAN': 3, 'URL': 4, 'INS': 5, 'NAM': 6, 'NOT': 7},\n",
    "    'QA': {'SC': 1, 'SN': 2, 'SF': 3, 'NA': 4, 'UN': 5},\n",
    "    'QA_retrieval': {'Y': 1, 'N': 2},\n",
    "    'preprint': {'Y': 1, 'N': 2},\n",
    "    'software_paper': {'Y': 1, 'N': 2},\n",
    "    'confidence': {'Y': 1, 'N': 2}\n",
    "}"
   ]
  },
  {
   "cell_type": "markdown",
   "id": "f59da867",
   "metadata": {},
   "source": [
    "Before we can replace the string values with numericals, some normalization has to be done."
   ]
  },
  {
   "cell_type": "code",
   "execution_count": null,
   "id": "9706eb8d",
   "metadata": {},
   "outputs": [],
   "source": [
    "for df in [df_sb, df_nch, df_sd]:\n",
    "    for col_name in binary_cols:\n",
    "        df[col_name] = df[col_name].replace(['YES', 'Yes'],'Y')\n",
    "        df[col_name] = df[col_name].replace(['NO', 'No'],'N')"
   ]
  },
  {
   "cell_type": "markdown",
   "id": "78d3e169",
   "metadata": {},
   "source": [
    "Now we can replace the string categories with numericals."
   ]
  },
  {
   "cell_type": "code",
   "execution_count": null,
   "id": "ce439c1f",
   "metadata": {},
   "outputs": [],
   "source": [
    "df_sb = df_sb.replace(str_num_map)\n",
    "df_nch = df_nch.replace(str_num_map)\n",
    "df_sd = df_sd.replace(str_num_map)\n",
    "\n",
    "df_sb = df_sb.replace('', 0)\n",
    "df_nch = df_nch.replace('', 0)\n",
    "df_sd = df_sd.replace('', 0)"
   ]
  },
  {
   "cell_type": "markdown",
   "id": "c8380df2",
   "metadata": {},
   "source": [
    "Create numpy arrays for the single annotation categories with values from all dataframes."
   ]
  },
  {
   "cell_type": "code",
   "execution_count": null,
   "id": "aba3af52",
   "metadata": {},
   "outputs": [],
   "source": [
    "main_sb = df_sb['MAIN'].to_numpy()\n",
    "main_nch = df_nch['MAIN'].to_numpy()\n",
    "main_sd = df_sd['MAIN'].to_numpy()\n",
    "main = np.array([main_sb, main_nch, main_sd])\n",
    "\n",
    "# Compute Fleiss' kappa\n",
    "from statsmodels.stats import inter_rater as irr\n",
    "dats, cats = irr.aggregate_raters(main)\n",
    "print(dats)\n",
    "print(cats)\n",
    "print(f\"Fleiss' kappa: {irr.fleiss_kappa(dats, method='fleiss')}\")\n",
    "\n",
    "# Compute Krippendorf's alpha\n",
    "import krippendorff as kd\n",
    "print(f\"Krippendorff's alpha: {kd.alpha(main, level_of_measurement='nominal')}\")"
   ]
  },
  {
   "cell_type": "markdown",
   "id": "dd0ea4e5",
   "metadata": {},
   "source": [
    "### Compute IAA scores"
   ]
  },
  {
   "cell_type": "code",
   "execution_count": null,
   "id": "d306547f",
   "metadata": {},
   "outputs": [],
   "source": [
    "# Compute Fleiss' kappa\n",
    "dats, cats = irr.aggregate_raters(main)\n",
    "print(dats)\n",
    "print(cats)\n",
    "irr.fleiss_kappa(dats, method='fleiss')\n",
    "\n",
    "# Compute Krippendorf's alpha\n",
    "import krippendorff as kd\n",
    "kd.alpha(main, level_of_measurement='nominal')"
   ]
  }
 ],
 "metadata": {
  "kernelspec": {
   "display_name": "Python 3 (ipykernel)",
   "language": "python",
   "name": "python3"
  },
  "language_info": {
   "codemirror_mode": {
    "name": "ipython",
    "version": 3
   },
   "file_extension": ".py",
   "mimetype": "text/x-python",
   "name": "python",
   "nbconvert_exporter": "python",
   "pygments_lexer": "ipython3",
   "version": "3.8.10"
  }
 },
 "nbformat": 4,
 "nbformat_minor": 5
}
