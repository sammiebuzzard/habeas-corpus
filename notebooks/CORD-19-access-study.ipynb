{
 "cells": [
  {
   "cell_type": "markdown",
   "metadata": {},
   "source": [
    "# CORD-19 Software Mentions - Access Study"
   ]
  },
  {
   "cell_type": "markdown",
   "metadata": {},
   "source": [
    "## Relation between citation characteristics and accessibility for analysis (RQ2)\n",
    "\n",
    "In order to understand research software projects better, e.g., to\n",
    "determine the qualities and characteristics that make research software projects\n",
    "successful under a given definition of success, or that help make them sustainable,\n",
    "or that underlie their collapse, access to their source code repositories is needed.\n",
    "We wanted to find out which characteristics of software citations enable this access,\n",
    "and how they relate to adherence to the software citation principles.\n",
    "\n",
    "Some observable qualities of software mentions and citations can be linked to\n",
    "adherence to the software citation principles:\n",
    "a citation to software follows the principle of *Importance*, \n",
    "not mentioning a software violates that principle; \n",
    "identifying authors in references follows the *Credit and attribution* principle; \n",
    "providing access to a persistently archived version of source code in citations or references follows the *Persistence* principle; \n",
    "providing access to the source code more generally follows the *Accessibility* principle,\n",
    "which is the one that this question is most concerned with;\n",
    "providing version information for software that was used follows the *Specificity* principle.\n",
    "\n",
    "The results of this part of the study would provide evidence concerning the suitability\n",
    "of the software citation principles for software accessibility."
   ]
  },
  {
   "cell_type": "markdown",
   "metadata": {},
   "source": [
    "## Methodology\n",
    "\n",
    "The dataset of 80 software mentions was manually annotated by SD to\n",
    "classify for adherence to the software citation principles, and the\n",
    "possibility to directly or indirectly access the source code of the\n",
    "mentioned software.\n",
    "The table below presents the annotations for\n",
    "mention features that were actually found in the dataset. The dataset\n",
    "itself is available as *CSM\\_sampled\\_mention\\_access.csv*.\n",
    "\n",
    "  | Code |   Description |\n",
    "  | :--- | :--- |\n",
    "  | VER | Version information in reference\n",
    "  | CVER | Version information near mention\n",
    "  | CRE | Information in reference allowing for personal credit\n",
    "  | REP | Link to community repository in reference\n",
    "  | CACC | Link to source code near mention\n",
    "\n",
    "> Table: Annotations for accessibility\n",
    "  and adherence to the software citation principles, for which\n",
    "  respective mention features could be found in our dataset."
   ]
  },
  {
   "cell_type": "code",
   "execution_count": null,
   "metadata": {},
   "outputs": [],
   "source": [
    "# Import dependencies\n",
    "import pandas as pd\n",
    "import numpy as np\n",
    "# import matplotlib.pyplot as plt\n",
    "# import seaborn as sns\n",
    "\n",
    "# sns.set_palette('colorblind')"
   ]
  },
  {
   "cell_type": "markdown",
   "metadata": {},
   "source": [
    "We read the access dataset as a pandas dataframe, and print it as a sanity check."
   ]
  },
  {
   "cell_type": "code",
   "execution_count": null,
   "metadata": {},
   "outputs": [],
   "source": [
    "df = pd.read_csv(r'../data/access_study/CSM_sampled_mention_access.csv', encoding='unicode_escape', engine='python', index_col=False).fillna(0)\n",
    "print(df)"
   ]
  },
  {
   "cell_type": "markdown",
   "metadata": {},
   "source": [
    "### Accessibility\n",
    "\n",
    "We print the totals for each access type annotation.\n",
    "\n",
    "The annotations are in column *Access*, where\n",
    "*D* means *direct access is possible from the mention*,\n",
    "*I* means _**in**direct access is possible from the mention_ and\n",
    "*N* means *no access is possible from the mention*.\n",
    "\n",
    "We also convert the raw values to printable column headers."
   ]
  },
  {
   "cell_type": "code",
   "execution_count": null,
   "metadata": {},
   "outputs": [],
   "source": [
    "access = df['Access']\n",
    "access = access.str.replace('N', 'No access')\n",
    "access = access.str.replace('D', 'Direct access')\n",
    "access = access.str.replace('I', 'Indirect access')\n",
    "access_totals = access.value_counts()\n",
    "access_totals"
   ]
  },
  {
   "cell_type": "markdown",
   "metadata": {},
   "source": [
    "We calculate the percentages for each of the totals."
   ]
  },
  {
   "cell_type": "code",
   "execution_count": null,
   "metadata": {},
   "outputs": [],
   "source": [
    "access_percent = access.value_counts(normalize=True)\n",
    "access_percent100 = access_percent.mul(100).round(1).astype(str)\n",
    "access_df = pd.DataFrame({'No. of mentions': access_totals, '% of mentions': access_percent100})\n",
    "access_df"
   ]
  },
  {
   "cell_type": "markdown",
   "metadata": {},
   "source": [
    "We convert this new dataframe to latex and print it."
   ]
  },
  {
   "cell_type": "code",
   "execution_count": null,
   "metadata": {},
   "outputs": [],
   "source": [
    "print(access_df.to_latex())"
   ]
  },
  {
   "cell_type": "markdown",
   "metadata": {},
   "source": [
    "### Adherence to principles\n",
    "\n",
    "We look at the characteristics that we expect to have in adherence to the software citation principles.\n",
    "\n",
    "We cannot detect the ommission of mentions for software that was used in reported research, but we can detect the existence of\n",
    "- author names that allow for credit;\n",
    "- a link or identifier for a persistently archived version of the software that was used;\n",
    "- a link that allows us to access the source code;\n",
    "- a version identifier.\n",
    "\n",
    "The dataset contains annotations for instances where we found this information:"
   ]
  },
  {
   "cell_type": "code",
   "execution_count": null,
   "metadata": {},
   "outputs": [],
   "source": [
    "def create_data_structure():\n",
    "    # Define the annotations for principledness, i.e., adherence to the software citation principles, \n",
    "    # in lists of code, description, occurrence count\n",
    "    credit_ref = ['CRE', 'Creditable author information in reference', 0]\n",
    "    access_cit = ['CACC', 'Link for access to source code near mention', 0]\n",
    "    ver_cit = ['CVER', 'Version information near mention', 0]\n",
    "    ver_ref = ['VER', 'Version information in reference', 0]\n",
    "    artifrepo_ref = ['REP', 'Link to community repository in reference', 0]\n",
    "    no_princ = ['N', 'No information in adherence to principles', 0]\n",
    "    features = [credit_ref, access_cit, ver_cit, ver_ref, artifrepo_ref, no_princ]\n",
    "    return features"
   ]
  },
  {
   "cell_type": "markdown",
   "metadata": {},
   "source": [
    "Now count the occurrence of annotations."
   ]
  },
  {
   "cell_type": "code",
   "execution_count": null,
   "metadata": {},
   "outputs": [],
   "source": [
    "# Data structure\n",
    "clusters = {\n",
    "    'Author information': {'annos': {'CRE'}},\n",
    "    'Software links': {'annos': {'CACC', 'REP'}},\n",
    "    'Version information': {'annos': {'VER', 'CVER'}},\n",
    "    'No information': {'annos': {'N'}}\n",
    "}\n",
    "                \n",
    "                \n",
    "for i in df.index:\n",
    "    for category in clusters:\n",
    "        raw_val = df['Accessibility and Principledness'][i]\n",
    "        vals = raw_val.split(',')\n",
    "        vals = [v.strip() for v in vals]\n",
    "        for val in vals:\n",
    "            if val in clusters[category]['annos']:\n",
    "                if val in clusters[category]:\n",
    "                    clusters[category][val] += 1\n",
    "                else:\n",
    "                    clusters[category][val] = 1\n",
    "\n",
    "clusters"
   ]
  },
  {
   "cell_type": "markdown",
   "metadata": {},
   "source": [
    "Create a new dataframe to hold the clusters, and sum up occurrences for single features in cluster category."
   ]
  },
  {
   "cell_type": "code",
   "execution_count": null,
   "metadata": {},
   "outputs": [],
   "source": [
    "df2 = pd.DataFrame(clusters).fillna(0).transpose()\n",
    "df2 = df2.drop(['annos'], axis=1)\n",
    "df2.insert(0, 'Total', df2.sum(axis=1, skipna=True).astype(int))\n",
    "df2"
   ]
  },
  {
   "cell_type": "code",
   "execution_count": null,
   "metadata": {},
   "outputs": [],
   "source": [
    "print(df2.to_latex(index=False, column_format='rccccccc'))"
   ]
  }
 ],
 "metadata": {
  "celltoolbar": "Raw Cell Format",
  "kernelspec": {
   "display_name": "Python 3 (ipykernel)",
   "language": "python",
   "name": "python3"
  },
  "language_info": {
   "codemirror_mode": {
    "name": "ipython",
    "version": 3
   },
   "file_extension": ".py",
   "mimetype": "text/x-python",
   "name": "python",
   "nbconvert_exporter": "python",
   "pygments_lexer": "ipython3",
   "version": "3.8.10"
  }
 },
 "nbformat": 4,
 "nbformat_minor": 4
}
