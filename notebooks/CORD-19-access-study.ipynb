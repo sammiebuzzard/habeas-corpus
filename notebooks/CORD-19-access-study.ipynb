{
 "cells": [
  {
   "cell_type": "markdown",
   "metadata": {},
   "source": [
    "# CORD-19 Software Mentions - Access Study"
   ]
  },
  {
   "cell_type": "markdown",
   "metadata": {},
   "source": [
    "## Relation between citation characteristics and accessibility for analysis (RQ2)\n",
    "\n",
    "In order to understand research software projects better, e.g., to\n",
    "determine the qualities and characteristics that make research software projects\n",
    "successful under a given definition of success, or that help make them sustainable,\n",
    "or that underlie their collapse, access to their source code repositories is needed.\n",
    "We wanted to find out which characteristics of software citations enable this access,\n",
    "and how they relate to adherence to the software citation principles.\n",
    "\n",
    "Some observable qualities of software mentions and citations can be linked to\n",
    "adherence to the software citation principles:\n",
    "a citation to software follows the principle of *Importance*, \n",
    "not mentioning a software violates that principle; \n",
    "identifying authors in references follows the *Credit and attribution* principle; \n",
    "providing access to a persistently archived version of source code in citations or references follows the *Persistence* principle; \n",
    "providing access to the source code more generally follows the *Accessibility* principle,\n",
    "which is the one that this question is most concerned with;\n",
    "providing version information for software that was used follows the *Specificity* principle.\n",
    "\n",
    "The results of this part of the study would provide evidence concerning the suitability\n",
    "of the software citation principles for software accessibility."
   ]
  },
  {
   "cell_type": "markdown",
   "metadata": {},
   "source": [
    "## Methodology\n",
    "\n",
    "The dataset of 80 software mentions was manually annotated by SD to\n",
    "classify for adherence to the software citation principles, and the\n",
    "possibility to directly or indirectly access the source code of the\n",
    "mentioned software.\n",
    "The table below presents the annotations for\n",
    "mention features that were actually found in the dataset. The dataset\n",
    "itself is available as *CSM\\_sampled\\_mention\\_access.csv*.\n",
    "\n",
    "  | Code |   Description |\n",
    "  | :--- | :--- |\n",
    "  | VER | Version information in reference\n",
    "  | CVER | Version information near mention\n",
    "  | CRE | Information in reference allowing for personal credit\n",
    "  | REP | Link to community repository in reference\n",
    "  | CACC | Link to source code near mention\n",
    "\n",
    "> Table: Annotations for accessibility\n",
    "  and adherence to the software citation principles, for which\n",
    "  respective mention features could be found in our dataset."
   ]
  },
  {
   "cell_type": "code",
   "execution_count": null,
   "metadata": {},
   "outputs": [],
   "source": [
    "# Import dependencies\n",
    "import pandas as pd\n",
    "import numpy as np"
   ]
  },
  {
   "cell_type": "markdown",
   "metadata": {},
   "source": [
    "We read the access dataset as a pandas dataframe, and print it as a sanity check."
   ]
  },
  {
   "cell_type": "code",
   "execution_count": null,
   "metadata": {},
   "outputs": [],
   "source": [
    "df = pd.read_csv(r'../data/access_study/CSM_sampled_mention_access.csv', encoding='unicode_escape', engine='python', index_col=False).fillna(0)\n",
    "print(df)"
   ]
  },
  {
   "cell_type": "markdown",
   "metadata": {},
   "source": [
    "### Accessibility\n",
    "\n",
    "We print the totals for each access type annotation.\n",
    "\n",
    "The annotations are in column *Access*, where\n",
    "*D* means *direct access is possible from the mention*,\n",
    "*I* means _**in**direct access is possible from the mention_ and\n",
    "*N* means *no access is possible from the mention*.\n",
    "\n",
    "We also convert the raw values to printable column headers."
   ]
  },
  {
   "cell_type": "code",
   "execution_count": null,
   "metadata": {},
   "outputs": [],
   "source": [
    "access = df['Access']\n",
    "access = access.str.replace('N', 'No access')\n",
    "access = access.str.replace('D', 'Direct access')\n",
    "access = access.str.replace('I', 'Indirect access')\n",
    "access_totals = access.value_counts()\n",
    "access_totals"
   ]
  },
  {
   "cell_type": "markdown",
   "metadata": {},
   "source": [
    "We calculate the percentages for each of the totals."
   ]
  },
  {
   "cell_type": "code",
   "execution_count": null,
   "metadata": {},
   "outputs": [],
   "source": [
    "access_percent = access.value_counts(normalize=True)\n",
    "access_percent100 = access_percent.mul(100).round(1).astype(str)\n",
    "access_df = pd.DataFrame({'No. of mentions': access_totals, '% of mentions': access_percent100})\n",
    "access_df"
   ]
  },
  {
   "cell_type": "markdown",
   "metadata": {},
   "source": [
    "We convert this new dataframe to latex and print it."
   ]
  },
  {
   "cell_type": "code",
   "execution_count": null,
   "metadata": {},
   "outputs": [],
   "source": [
    "print(access_df.to_latex())"
   ]
  },
  {
   "cell_type": "markdown",
   "metadata": {},
   "source": [
    "### Adherence to principles\n",
    "\n",
    "We look at the characteristics that we expect to have in adherence to the software citation principles.\n",
    "\n",
    "We cannot detect the ommission of mentions for software that was used in reported research, but we can detect the existence of\n",
    "- author names that allow for credit;\n",
    "- a link or identifier for a persistently archived version of the software that was used;\n",
    "- a link that allows us to access the source code;\n",
    "- a version identifier.\n",
    "\n",
    "The dataset contains annotations for instances where we found this information:"
   ]
  },
  {
   "cell_type": "code",
   "execution_count": null,
   "metadata": {},
   "outputs": [],
   "source": [
    "expanded_annos = {\n",
    "    'CRE': 'Creditable author information in reference',\n",
    "    'CACC': 'Link for access to source code near mention',\n",
    "    'CVER': 'Version information near mention',\n",
    "    'VER': 'Version information in reference',\n",
    "    'REP': 'Link to community repository in reference',\n",
    "    'N': 'No information in adherence to principles',\n",
    "}\n",
    "\n",
    "# Render as LaTeX\n",
    "print(pd.DataFrame(expanded_annos, index = ['Description']).transpose().to_latex(column_format='rl'))"
   ]
  },
  {
   "cell_type": "markdown",
   "metadata": {},
   "source": [
    "Now count the occurrence of annotations."
   ]
  },
  {
   "cell_type": "code",
   "execution_count": null,
   "metadata": {},
   "outputs": [],
   "source": [
    "# Create data structure with clustering information\n",
    "clusters = {\n",
    "    'Author information': {'annos': {'CRE'}},\n",
    "    'Software links': {'annos': {'CACC', 'REP'}},\n",
    "    'Version information': {'annos': {'VER', 'CVER'}},\n",
    "    'No information': {'annos': {'N'}}\n",
    "}\n",
    "\n",
    "# Cluster the annotations\n",
    "for i in df.index:\n",
    "    for category in clusters:\n",
    "        raw_val = df['Accessibility and Principledness'][i]\n",
    "        # Split and strip potentially comma-separated annotations\n",
    "        vals = raw_val.split(',')\n",
    "        vals = [v.strip() for v in vals]\n",
    "        for val in vals:\n",
    "            if val in clusters[category]['annos']:\n",
    "                # Iterate count if cuont already exists, or create inital count\n",
    "                if val in clusters[category]:\n",
    "                    clusters[category][val] += 1\n",
    "                else:\n",
    "                    clusters[category][val] = 1\n",
    "\n",
    "clusters"
   ]
  },
  {
   "cell_type": "markdown",
   "metadata": {},
   "source": [
    "Create a new dataframe to hold the clusters, and sum up occurrences for single features in cluster category."
   ]
  },
  {
   "cell_type": "code",
   "execution_count": null,
   "metadata": {},
   "outputs": [],
   "source": [
    "# NaN values in dataframe should be filled with zeroes, and dataframe should be transposed\n",
    "df2 = pd.DataFrame(clusters).fillna(0).transpose()\n",
    "# Drop the unneeded column showing the annotations belonging to a category\n",
    "df2 = df2.drop(['annos'], axis=1)\n",
    "# Add a column showing the category total, summing up the counts of the single subcategories\n",
    "df2.insert(0, 'Total', df2.sum(axis=1, skipna=True).astype(int))\n",
    "df2"
   ]
  },
  {
   "cell_type": "code",
   "execution_count": null,
   "metadata": {},
   "outputs": [],
   "source": [
    "# Render the new dataframe as a LaTeX table\n",
    "print(df2.to_latex(index=False, column_format='rccccccc'))"
   ]
  },
  {
   "cell_type": "markdown",
   "metadata": {},
   "source": [
    "Render this more nicely as a stacked bar plot."
   ]
  },
  {
   "cell_type": "code",
   "execution_count": null,
   "metadata": {},
   "outputs": [],
   "source": [
    "%matplotlib inline\n",
    "# Render the percentage data as a nice stacked bar chart\n",
    "import matplotlib\n",
    "matplotlib.use(\"pgf\")\n",
    "matplotlib.rcParams.update(\n",
    "    {\n",
    "        # Adjust to your LaTex-Engine\n",
    "        \"pgf.texsystem\": \"pdflatex\",\n",
    "        \"font.family\": \"serif\",\n",
    "        \"text.usetex\": True,\n",
    "        \"pgf.rcfonts\": False,\n",
    "        \"axes.unicode_minus\": False,\n",
    "    }\n",
    ")\n",
    "import matplotlib.pyplot as plt\n",
    "\n",
    "# Sort by category total in decending order\n",
    "df2.sort_values(by=['Total'], inplace=True, ascending=True)\n",
    "\n",
    "# Collect columns to render (exclude Total)\n",
    "plot_cols = [col for col in df2.columns.tolist() if col not in ['Total']]\n",
    "\n",
    "# Colourblind/-friendly colours adapted from https://gist.github.com/thriveth/8560036\n",
    "my_colors = ['#4daf4a', '#f781bf', '#e41a1c', '#984ea3', '#999999', '#a65628']\n",
    "\n",
    "# Create the plot\n",
    "print(df2[plot_cols])\n",
    "ax = df2[plot_cols].plot(kind='barh', stacked=True, figsize=(9,3), color=my_colors)\n",
    "plt.tight_layout()\n",
    "\n",
    "# Add a title and rotate the x-axis labels to be horizontal\n",
    "plt.title('Mention features by annotation')\n",
    "plt.xticks(rotation=0, ha='center')\n",
    "plt.xlabel('No. of mentions in our sample')\n",
    "\n",
    "for c in ax.containers:\n",
    "    print(c.datavalues)\n",
    "    ax.bar_label(c, labels = ['' if v == 0 else int(v) for v in c.datavalues], label_type='center')\n",
    "    \n",
    "# Save the plot\n",
    "# Fixes cropped labels\n",
    "plt.tight_layout()\n",
    "# Save as pgf\n",
    "plt.savefig('mentions-by-annotation.pgf')\n",
    "plt.show()"
   ]
  },
  {
   "cell_type": "markdown",
   "metadata": {},
   "source": [
    "Let's see how the features distribute over mention types."
   ]
  },
  {
   "cell_type": "code",
   "execution_count": null,
   "metadata": {},
   "outputs": [],
   "source": [
    "# We need to expand a) comma-separated mention types, and then b) comma-separated features\n",
    "def explode_list(val):\n",
    "    '''Explodes a comma-separated string list into a list'''\n",
    "    vals = val.split(',')\n",
    "    vals = [v.strip() for v in vals]\n",
    "    return vals\n",
    "\n",
    "# Data structure\n",
    "typ_cols = ['cat', 'subcat', 'feature', 'count']\n",
    "typ_df = pd.DataFrame(columns=typ_cols)\n",
    "\n",
    "# Re-cluster, but this time also record mention type\n",
    "# We need a new map from features to mention types, and from single annotations to mention types\n",
    "for i in df.index:\n",
    "    acc_raw = df['Accessibility and Principledness'][i]\n",
    "    acc_vals = explode_list(acc_raw)\n",
    "    typ_raw = df['Mention Type'][i]\n",
    "    typ_vals = explode_list(typ_raw)\n",
    "    for acc in acc_vals:\n",
    "        for category in clusters:\n",
    "            if acc in clusters[category]['annos']:\n",
    "                for typ in typ_vals:\n",
    "                    # Set up filters\n",
    "                    mf_1 = typ_df['cat'] == category\n",
    "                    mf_2 = typ_df['subcat'] == acc\n",
    "                    mf_3 = typ_df['feature'] == typ\n",
    "                    # Get index of (should be single row) having this filter\n",
    "                    indices = typ_df.index[mf_1 & mf_2 & mf_3].tolist()\n",
    "                    assert len(indices) in [0, 1]\n",
    "                    target_row = typ_df.loc[mf_1 & mf_2 & mf_3]\n",
    "                    if target_row.empty:\n",
    "                        typ_df.loc[len(typ_df.index)] = [category, acc, typ, 1]\n",
    "#                         typ_df.loc[0]['count'] = 1\n",
    "#                         typ_df = typ_df.append({'cat': category, \n",
    "#                                                 'subcat': acc, \n",
    "#                                                 'feature': typ, \n",
    "#                                                 'count': 1}, ignore_index=True,\n",
    "#                                               index=['cat', subcat])\n",
    "                    else:\n",
    "                        assert len(indices) == 1\n",
    "                        typ_df.at[indices[0], 'count'] += 1\n",
    "                    \n",
    "typ_df.sort_values(by=['cat', 'subcat', 'feature'], inplace=True)\n",
    "multi_df = typ_df.set_index(['cat', 'subcat', 'feature', 'count'])\n",
    "plot_df = typ_df.sort_values(by=['feature', 'cat', 'subcat', 'count'])\n",
    "multi_df"
   ]
  },
  {
   "cell_type": "code",
   "execution_count": null,
   "metadata": {},
   "outputs": [],
   "source": [
    "# Prepare a set of mention types\n",
    "types = set()\n",
    "for values in df['Mention Type'].unique():\n",
    "    types.update(explode_list(values))\n",
    "# Prepare a set of accessibility annotations\n",
    "annos = set()\n",
    "for values in df['Accessibility and Principledness'].unique():\n",
    "    annos.update(explode_list(values))"
   ]
  },
  {
   "cell_type": "code",
   "execution_count": null,
   "metadata": {},
   "outputs": [],
   "source": [
    "%matplotlib inline\n",
    "matplotlib.rcParams['axes.prop_cycle'] = matplotlib.cycler(color=my_colors) \n",
    "plot_df = plot_df.reindex(columns=['feature', 'cat', 'subcat', 'count'])\n",
    "\n",
    "import copy\n",
    "\n",
    "typ_cluster = {\n",
    "    'Author information': {'CRE': {}},\n",
    "    'Software links': {'CACC': {}, 'REP': {}},\n",
    "    'Version information': {'VER': {}, 'CVER': {}},\n",
    "    'No information': {'N': {}}\n",
    "}\n",
    "\n",
    "clusters = {}\n",
    "\n",
    "for typ in types:\n",
    "    _cl = copy.deepcopy(typ_cluster)\n",
    "    df = plot_df.loc[plot_df['feature'] == typ]\n",
    "    for i, row in df.iterrows():\n",
    "        _cl[row['cat']][row['subcat']] = row['count']\n",
    "    clusters[typ]= _cl\n",
    "\n",
    "fig, axes = plt.subplots(nrows = 5, sharex = True, figsize=(10,14))\n",
    "plt.suptitle('Distribution of mention features over mention types', y=1.01, fontsize='x-large')\n",
    "\n",
    "color_dict = {'CRE': my_colors[0], 'CACC': my_colors[1], 'REP': my_colors[2], 'VER': my_colors[3], 'CVER': my_colors[4], 'N': my_colors[5]}\n",
    "\n",
    "for i, cl in enumerate(clusters.items()):\n",
    "    typ = cl[0]\n",
    "    _df = pd.DataFrame(cl[1]).transpose()\n",
    "    vars()['ax' + str(i)] = _df.plot(kind='barh', \n",
    "                                     stacked=True, \n",
    "                                     color=color_dict,\n",
    "                                     ax=axes[i])\n",
    "    vars()['ax' + str(i)].set_title('Mention features for ' + typ, y=1.03, pad=-14, fontsize='small')\n",
    "    plt.xticks(rotation=0, ha='center')\n",
    "    plt.xlabel('Number of features found for mention types.', fontsize='large')\n",
    "\n",
    "    for c in vars()['ax' + str(i)].containers:\n",
    "        vars()['ax' + str(i)].bar_label(c, labels = ['' if v == 0 else int(v) for v in c.datavalues], label_type='center')\n",
    "\n",
    "# TODO Move subplot titles, place legend and title better\n",
    "for ax in fig.axes:\n",
    "    ax.get_legend().remove()\n",
    "\n",
    "# fig.legend(ncol=5, bbox_to_anchor=(0, 1), loc='lower left', fontsize='small', *zip(*unique))\n",
    "from matplotlib.patches import Patch\n",
    "legend_elements = []\n",
    "for anno in annos:\n",
    "    legend_elements.append(Patch(facecolor=color_dict[anno], label=anno))\n",
    "\n",
    "# Create the figure\n",
    "fig.legend(handles=legend_elements, ncol=6, \n",
    "           bbox_to_anchor=(.5, .97),\n",
    "           loc='lower left', \n",
    "           fontsize='small')\n",
    "\n",
    "plt.tight_layout()\n",
    "plt.savefig('features-over-mentions.pgf')\n",
    "plt.show()"
   ]
  },
  {
   "cell_type": "code",
   "execution_count": null,
   "metadata": {},
   "outputs": [],
   "source": []
  }
 ],
 "metadata": {
  "celltoolbar": "Raw Cell Format",
  "kernelspec": {
   "display_name": "Python 3 (ipykernel)",
   "language": "python",
   "name": "python3"
  },
  "language_info": {
   "codemirror_mode": {
    "name": "ipython",
    "version": 3
   },
   "file_extension": ".py",
   "mimetype": "text/x-python",
   "name": "python",
   "nbconvert_exporter": "python",
   "pygments_lexer": "ipython3",
   "version": "3.8.10"
  }
 },
 "nbformat": 4,
 "nbformat_minor": 4
}
