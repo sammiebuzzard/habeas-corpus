{
 "cells": [
  {
   "cell_type": "markdown",
   "metadata": {},
   "source": [
    "# CORD-19 Software Mentions - Access Study"
   ]
  },
  {
   "cell_type": "markdown",
   "metadata": {},
   "source": [
    "## Relation between citation characteristics and accessibility for analysis (RQ2)\n",
    "\n",
    "In order to understand research software projects better, e.g., to\n",
    "determine the qualities and characteristics that make research software projects\n",
    "successful under a given definition of success, or that help make them sustainable,\n",
    "or that underlie their collapse, access to their source code repositories is needed.\n",
    "We wanted to find out which characteristics of software citations enable this access,\n",
    "and how they relate to adherence to the software citation principles.\n",
    "\n",
    "Some observable qualities of software mentions and citations can be linked to\n",
    "adherence to the software citation principles:\n",
    "a citation to software follows the principle of *Importance*, \n",
    "not mentioning a software violates that principle; \n",
    "identifying authors in references follows the *Credit and attribution* principle; \n",
    "providing access to a persistently archived version of source code in citations or references follows the *Persistence* principle; \n",
    "providing access to the source code more generally follows the *Accessibility* principle,\n",
    "which is the one that this question is most concerned with;\n",
    "providing version information for software that was used follows the *Specificity* principle.\n",
    "\n",
    "The results of this part of the study would provide evidence concerning the suitability\n",
    "of the software citation principles for software accessibility."
   ]
  },
  {
   "cell_type": "markdown",
   "metadata": {},
   "source": [
    "## Methodology\n",
    "\n",
    "The dataset of 80 software mentions was manually annotated by SD to\n",
    "classify for adherence to the software citation principles, and the\n",
    "possibility to directly or indirectly access the source code of the\n",
    "mentioned software.\n",
    "The table below presents the annotations for\n",
    "mention features that were actually found in the dataset. The dataset\n",
    "itself is available as *CSM\\_sampled\\_mention\\_access.csv*.\n",
    "\n",
    "  | Code |   Description |\n",
    "  | :--- | :--- |\n",
    "  | VER | Version information in reference\n",
    "  | CVER | Version information near mention\n",
    "  | CRE | Information in reference allowing for personal credit\n",
    "  | REP | Link to community repository in reference\n",
    "  | CACC | Link to source code near mention\n",
    "\n",
    "> Table: Annotations for accessibility\n",
    "  and adherence to the software citation principles, for which\n",
    "  respective mention features could be found in our dataset."
   ]
  },
  {
   "cell_type": "code",
   "execution_count": null,
   "metadata": {},
   "outputs": [],
   "source": [
    "# Import dependencies\n",
    "import pandas as pd\n",
    "import numpy as np\n",
    "# import matplotlib.pyplot as plt\n",
    "# import seaborn as sns\n",
    "\n",
    "# sns.set_palette('colorblind')"
   ]
  },
  {
   "cell_type": "markdown",
   "metadata": {},
   "source": [
    "We read the access dataset as a pandas dataframe, and print it as a sanity check."
   ]
  },
  {
   "cell_type": "code",
   "execution_count": null,
   "metadata": {},
   "outputs": [],
   "source": [
    "df = pd.read_csv(r'../data/access_study/CSM_sampled_mention_access.csv', encoding='unicode_escape', engine='python')\n",
    "print(df)"
   ]
  },
  {
   "cell_type": "markdown",
   "metadata": {},
   "source": [
    "We print the totals for each access type annotation.\n",
    "\n",
    "The annotations are in column *Access*, where\n",
    "*D* means *direct access is possible from the mention*,\n",
    "*I* means _**in**direct access is possible from the mention_ and\n",
    "*N* means *no access is possible from the mention*.\n",
    "\n",
    "We also convert the raw values to printable column headers."
   ]
  },
  {
   "cell_type": "code",
   "execution_count": null,
   "metadata": {},
   "outputs": [],
   "source": [
    "access = df['Access']\n",
    "access = access.str.replace('N', 'No access')\n",
    "access = access.str.replace('D', 'Direct access')\n",
    "access = access.str.replace('I', 'Indirect access')\n",
    "access_totals = access.value_counts()\n",
    "access_totals"
   ]
  },
  {
   "cell_type": "markdown",
   "metadata": {},
   "source": [
    "We calculate the percentages for each of the totals."
   ]
  },
  {
   "cell_type": "code",
   "execution_count": null,
   "metadata": {},
   "outputs": [],
   "source": [
    "access_percent = access.value_counts(normalize=True)\n",
    "access_percent100 = access_percent.mul(100).round(1).astype(str) + '% of mentions'\n",
    "access_df = pd.DataFrame({'No. of mentions': access_totals, '%': access_percent100})\n",
    "access_df"
   ]
  },
  {
   "cell_type": "markdown",
   "metadata": {},
   "source": [
    "We convert this new dataframe to latex and print it."
   ]
  },
  {
   "cell_type": "code",
   "execution_count": null,
   "metadata": {},
   "outputs": [],
   "source": [
    "print(access_df.to_latex())"
   ]
  },
  {
   "cell_type": "code",
   "execution_count": null,
   "metadata": {},
   "outputs": [],
   "source": []
  },
  {
   "cell_type": "code",
   "execution_count": null,
   "metadata": {},
   "outputs": [],
   "source": [
    "# Annotations\n",
    "# Principledness\n",
    "credit_ref = 'CRE'\n",
    "access_cit = 'CACC'\n",
    "ver_cit = 'CVER'\n",
    "ver_ref = 'VER'\n",
    "repo = 'REP'\n",
    "none = 'N'\n",
    "\n",
    "# Accessibility\n",
    "direct = 'D'\n",
    "indirect = 'I'\n",
    "\n",
    "# Counters\n",
    "direct_int = 0\n",
    "indirect_int = 0\n",
    "none_acc_int = 0\n",
    "\n",
    "for i in df.index:\n",
    "    access = df['Access'][i]\n",
    "    mention_types = df['Mention Type'][i]\n",
    "    principles = df['Accessibility and Principledness'][i]\n",
    "    if access is direct:\n",
    "        direct_int += 1\n",
    "        print('Upped direct by 1 to ' + str(direct_int))\n",
    "    elif access is indirect:\n",
    "        indirect_int += 1\n",
    "    elif access is none:\n",
    "        none_acc_int += 1\n",
    "        \n",
    "print(str(none_acc_int) + ' ' + str(indirect_int) + ' ' + str(direct_int))\n",
    "\n",
    "# Access overview\n",
    "\n",
    "raw_data = {\n",
    "    'access': ['direct access', 'indirect access', 'no access'],\n",
    "    'counts': [direct_int, indirect_int, none_acc_int]\n",
    "}\n",
    "\n",
    "\n",
    "fig, ax = plt.subplots(figsize=(5,4))\n",
    "\n",
    "# add the plot\n",
    "sns.barplot(x='access', y='counts', data=raw_data, ax=ax)\n",
    "\n",
    "# add the annotation\n",
    "ax.bar_label(ax.containers[-1], fmt='%d')\n",
    "\n",
    "ax.set(ylabel='No. of mentions', xlabel='Accessibility')\n",
    "plt.savefig('access.pdf')\n",
    "plt.show()\n",
    "\n",
    "\n",
    "\n",
    "# sns.barplot(x='access', y='counts', data=raw_data)\n",
    "\n",
    "# Access by mention type\n",
    "\n",
    "# Access by principle type\n",
    "\n",
    "# Access by mention + principle\n",
    "\n",
    "# Principle by mention type\n",
    "\n",
    "# def cluster_access_by_mention(mention, res):\n",
    "#     types = {\"PUB\",\"MAN\",\"PRO\",\"INS\",\"URL\",\"NAM\",\"NOT\"}    \n",
    "#     for type in types:\n",
    "#         if type in mention:\n",
    "#             if type in res:\n",
    "#                 res[type] +=1\n",
    "#                 print(\"Assigning to \", type, \"value is \", res[type])\n",
    "#             else:\n",
    "#                 res[type] = 1\n",
    "#                 print(\"Assigning to \", type, \"value is \",res[type])\n",
    "# \n",
    "# for i in df.index:\n",
    "#     for classification in results:\n",
    "#         if df['Accessibility and Principledness'][i] in results[classification]['lictypes']:\n",
    "#             #print (\"Index: \", i, \"Software Title: \", df['Title'][i], \"License Type: \", classification, \"Mention Type: \", df['Mention Type'][i])\n",
    "#             cluster_mentions(df['Mention Type'][i], results[classification])\n",
    "#             #print(results)\n",
    "#             \n",
    "#             \n",
    "# print(results)    "
   ]
  },
  {
   "cell_type": "code",
   "execution_count": null,
   "metadata": {},
   "outputs": [],
   "source": [
    "df2 = pd.DataFrame(results).fillna(0).transpose()\n",
    "print(df2)\n"
   ]
  },
  {
   "cell_type": "code",
   "execution_count": null,
   "metadata": {},
   "outputs": [],
   "source": [
    "df2 = df2.drop(['lictypes'], axis=1)\n"
   ]
  },
  {
   "cell_type": "code",
   "execution_count": null,
   "metadata": {},
   "outputs": [],
   "source": [
    "df2['Total'] = df2.sum(axis=1)\n",
    "print(df2)"
   ]
  },
  {
   "cell_type": "code",
   "execution_count": null,
   "metadata": {},
   "outputs": [],
   "source": []
  }
 ],
 "metadata": {
  "celltoolbar": "Raw Cell Format",
  "kernelspec": {
   "display_name": "Python 3 (ipykernel)",
   "language": "python",
   "name": "python3"
  },
  "language_info": {
   "codemirror_mode": {
    "name": "ipython",
    "version": 3
   },
   "file_extension": ".py",
   "mimetype": "text/x-python",
   "name": "python",
   "nbconvert_exporter": "python",
   "pygments_lexer": "ipython3",
   "version": "3.8.10"
  }
 },
 "nbformat": 4,
 "nbformat_minor": 4
}
