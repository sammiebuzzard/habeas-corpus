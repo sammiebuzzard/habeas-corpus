{
 "cells": [
  {
   "cell_type": "markdown",
   "metadata": {},
   "source": [
    "# CORD-19 Software Mentions - Access Study"
   ]
  },
  {
   "cell_type": "markdown",
   "metadata": {},
   "source": [
    "## Relation between citation characteristics and accessibility for analysis (RQ2)\n",
    "\n",
    "In order to understand research software projects better, e.g., to\n",
    "determine the qualities and characteristics that make research software projects\n",
    "successful under a given definition of success, or that help make them sustainable,\n",
    "or that underlie their collapse, access to their source code repositories is needed.\n",
    "We wanted to find out which characteristics of software citations enable this access,\n",
    "and how they relate to adherence to the software citation principles.\n",
    "\n",
    "Some observable qualities of software mentions and citations can be linked to\n",
    "adherence to the software citation principles:\n",
    "a citation to software follows the principle of *Importance*, \n",
    "not mentioning a software violates that principle; \n",
    "identifying authors in references follows the *Credit and attribution* principle; \n",
    "providing access to a persistently archived version of source code in citations or references follows the *Persistence* principle; \n",
    "providing access to the source code more generally follows the *Accessibility* principle,\n",
    "which is the one that this question is most concerned with;\n",
    "providing version information for software that was used follows the *Specificity* principle.\n",
    "\n",
    "The results of this part of the study would provide evidence concerning the suitability\n",
    "of the software citation principles for software accessibility."
   ]
  },
  {
   "cell_type": "markdown",
   "metadata": {},
   "source": [
    "## Methodology\n",
    "\n",
    "The dataset of 80 software mentions was manually annotated by SD to\n",
    "classify for adherence to the software citation principles, and the\n",
    "possibility to directly or indirectly access the source code of the\n",
    "mentioned software.\n",
    "The table below presents the annotations for\n",
    "mention features that were actually found in the dataset. The dataset\n",
    "itself is available as *CSM\\_sampled\\_mention\\_access.csv*.\n",
    "\n",
    "  | Code |   Description |\n",
    "  | :--- | :--- |\n",
    "  | VER | Version information in reference\n",
    "  | CVER | Version information near mention\n",
    "  | CRE | Information in reference allowing for personal credit\n",
    "  | REP | Link to community repository in reference\n",
    "  | CACC | Link to source code near mention\n",
    "\n",
    "> Table: Annotations for accessibility\n",
    "  and adherence to the software citation principles, for which\n",
    "  respective mention features could be found in our dataset."
   ]
  },
  {
   "cell_type": "code",
   "execution_count": null,
   "metadata": {},
   "outputs": [],
   "source": [
    "# Import dependencies\n",
    "import pandas as pd\n",
    "import numpy as np"
   ]
  },
  {
   "cell_type": "markdown",
   "metadata": {},
   "source": [
    "Read the access dataset as a pandas dataframe, and print it as a sanity check."
   ]
  },
  {
   "cell_type": "code",
   "execution_count": null,
   "metadata": {},
   "outputs": [],
   "source": [
    "df = pd.read_csv(r'../data/access_study/CSM_sampled_mention_access.csv', encoding='unicode_escape', engine='python', index_col=False).fillna(0)\n",
    "print(df)"
   ]
  },
  {
   "cell_type": "markdown",
   "metadata": {},
   "source": [
    "### Accessibility\n",
    "\n",
    "Print the totals for each access type annotation.\n",
    "\n",
    "The annotations are in column *Access*, where\n",
    "*D* means *direct access is possible from the mention*,\n",
    "*I* means _**in**direct access is possible from the mention_ and\n",
    "*N* means *no access is possible from the mention*.\n",
    "\n",
    "Also convert the raw values to printable column headers."
   ]
  },
  {
   "cell_type": "code",
   "execution_count": null,
   "metadata": {},
   "outputs": [],
   "source": [
    "access = df['Access']\n",
    "access = access.str.replace('N', 'No access')\n",
    "access = access.str.replace('D', 'Direct access')\n",
    "access = access.str.replace('I', 'Indirect access')\n",
    "access_totals = access.value_counts()\n",
    "access_totals"
   ]
  },
  {
   "cell_type": "markdown",
   "metadata": {},
   "source": [
    "Calculate the percentages for each of the totals."
   ]
  },
  {
   "cell_type": "code",
   "execution_count": null,
   "metadata": {},
   "outputs": [],
   "source": [
    "access_percent = access.value_counts(normalize=True)\n",
    "access_percent100 = access_percent.mul(100).round(1).astype(str)\n",
    "access_df = pd.DataFrame({'No. of mentions': access_totals, '% of mentions': access_percent100})\n",
    "access_df"
   ]
  },
  {
   "cell_type": "markdown",
   "metadata": {},
   "source": [
    "Convert this new dataframe to latex and print it."
   ]
  },
  {
   "cell_type": "code",
   "execution_count": null,
   "metadata": {},
   "outputs": [],
   "source": [
    "print(access_df.to_latex())"
   ]
  },
  {
   "cell_type": "markdown",
   "metadata": {},
   "source": [
    "### Adherence to principles\n",
    "\n",
    "Look at the characteristics that one expects to have in adherence to the software citation principles.\n",
    "\n",
    "We cannot detect the ommission of mentions for software that was used in reported research, but we can detect the existence of\n",
    "- author names that allow for credit;\n",
    "- a link or identifier for a persistently archived version of the software that was used;\n",
    "- a link that allows us to access the source code;\n",
    "- a version identifier.\n",
    "\n",
    "The dataset contains annotations for instances where we found this information:"
   ]
  },
  {
   "cell_type": "code",
   "execution_count": null,
   "metadata": {},
   "outputs": [],
   "source": [
    "expanded_annos = {\n",
    "    'SOF': 'Software reference',\n",
    "    'CRE': 'Creditable author information in reference',\n",
    "    'CACC': 'Link for access to source code near mention',\n",
    "    'CVER': 'Version information near mention',\n",
    "    'VER': 'Version information in reference',\n",
    "    'REP': 'Link to community repository in reference',\n",
    "    'N': 'No information in adherence to principles',\n",
    "}\n",
    "\n",
    "# Render as LaTeX\n",
    "print(pd.DataFrame(expanded_annos, index = ['Description']).transpose().to_latex(column_format='rl'))"
   ]
  },
  {
   "cell_type": "markdown",
   "metadata": {},
   "source": [
    "Define a function for exploding cell-values that are comma-separated string lists."
   ]
  },
  {
   "cell_type": "code",
   "execution_count": null,
   "metadata": {},
   "outputs": [],
   "source": [
    "# We need to expand a) comma-separated mention types, and then b) comma-separated features.\n",
    "def explode_list(str_list_candidate):\n",
    "    '''Explodes a comma-separated string list into a Python list.'''\n",
    "    items = str_list_candidate.split(',')\n",
    "    items = [i.strip() for i in items]\n",
    "    return items"
   ]
  },
  {
   "cell_type": "markdown",
   "metadata": {},
   "source": [
    "Now count the occurrence of annotations."
   ]
  },
  {
   "cell_type": "code",
   "execution_count": null,
   "metadata": {},
   "outputs": [],
   "source": [
    "# Create data structure with clustering information\n",
    "clusters = {\n",
    "    'Author information': {'annos': {'CRE'}},\n",
    "    'Software links': {'annos': {'CACC', 'REP'}},\n",
    "    'Version information': {'annos': {'VER', 'CVER'}},\n",
    "    'Software reference': {'annos': {'SOF'}},\n",
    "    'No information': {'annos': {'N'}}\n",
    "}\n",
    "y = ['Author information',\n",
    "     'Software links',\n",
    "     'Version information',\n",
    "     'Software reference',\n",
    "     'No information']\n",
    "x = [\n",
    "    'CRE','CACC, REP', 'VER, CVER', 'SOF', 'N'\n",
    "]\n",
    "cldf = pd.DataFrame(x, y)\n",
    "print(cldf.to_latex())\n",
    "\n",
    "# Cluster the annotations\n",
    "for i in df.index:\n",
    "    for category in clusters:\n",
    "        raw_val = df['Accessibility and Principledness'][i]\n",
    "        vals = explode_list(raw_val)\n",
    "        for val in vals:\n",
    "            if val in clusters[category]['annos']:\n",
    "                # Iterate count if count already exists, or create inital count\n",
    "                if val in clusters[category]:\n",
    "                    clusters[category][val] += 1\n",
    "                else:\n",
    "                    clusters[category][val] = 1\n",
    "\n",
    "# Print final data structure as sanity check\n",
    "clusters\n"
   ]
  },
  {
   "cell_type": "markdown",
   "metadata": {},
   "source": [
    "Create a new dataframe to hold the clusters, and sum up occurrences for single features in cluster category."
   ]
  },
  {
   "cell_type": "code",
   "execution_count": null,
   "metadata": {},
   "outputs": [],
   "source": [
    "# NaN values in dataframe should be filled with zeroes, and dataframe should be transposed\n",
    "df2 = pd.DataFrame(clusters).fillna(0).transpose()\n",
    "# Drop the unneeded column showing the annotations belonging to a category\n",
    "df2 = df2.drop(['annos'], axis=1)\n",
    "# Add a column showing the category total, summing up the counts of the single subcategories\n",
    "df2.insert(0, 'Total', df2.sum(axis=1, skipna=True).astype(int))\n",
    "df2"
   ]
  },
  {
   "cell_type": "markdown",
   "metadata": {},
   "source": [
    "Render the new dataframe as a LaTeX table."
   ]
  },
  {
   "cell_type": "code",
   "execution_count": null,
   "metadata": {},
   "outputs": [],
   "source": [
    "print(df2.to_latex(index=False, column_format='rccccccc'))"
   ]
  },
  {
   "cell_type": "markdown",
   "metadata": {},
   "source": [
    "Render this more nicely as a stacked bar plot."
   ]
  },
  {
   "cell_type": "code",
   "execution_count": null,
   "metadata": {},
   "outputs": [],
   "source": [
    "%matplotlib inline\n",
    "\n",
    "# Use matplotlib to create this and following plots\n",
    "import matplotlib\n",
    "matplotlib.use(\"pgf\")\n",
    "matplotlib.rcParams.update(\n",
    "    {\n",
    "        # Adjust to your LaTex-Engine\n",
    "        \"pgf.texsystem\": \"pdflatex\",\n",
    "        \"font.family\": \"serif\",\n",
    "        \"text.usetex\": True,\n",
    "        \"pgf.rcfonts\": False,\n",
    "        \"axes.unicode_minus\": False,\n",
    "    }\n",
    ")\n",
    "import matplotlib.pyplot as plt\n",
    "\n",
    "# Sort by category total in decending order\n",
    "df2.sort_values(by=['Total'], inplace=True, ascending=True)\n",
    "\n",
    "# Collect columns to render (exclude Total)\n",
    "plot_cols = [col for col in df2.columns.tolist() if col not in ['Total']]\n",
    "\n",
    "# For each of the columns, add a column with the % of mentions (100% = 80) in a new dataframe, and display that\n",
    "perdf = pd.DataFrame(df2[plot_cols]).transpose()\n",
    "perdf['%'] = perdf.apply(lambda x: x/80).sum(axis=1)*100\n",
    "perdf['%'] = perdf['%'].round(decimals=2)\n",
    "print(perdf.to_latex())\n",
    "\n",
    "# Colourblind/-friendly colours adapted from https://gist.github.com/thriveth/8560036\n",
    "my_colors = ['#4daf4a', '#f781bf', '#e41a1c', '#984ea3', '#999999', '#377eb8', '#a65628']\n",
    "\n",
    "# Create the plot\n",
    "ax = df2[plot_cols].plot(kind='barh', stacked=True, figsize=(9,3), color=my_colors)\n",
    "plt.tight_layout()\n",
    "\n",
    "# Add a title and rotate the x-axis labels to be horizontal\n",
    "plt.title('Distribution of mention characteristics')\n",
    "plt.xticks(rotation=0, ha='center')\n",
    "plt.xlabel('No. of mentions in our sample')\n",
    "\n",
    "# Add labels to bar sections, unless the value is 0\n",
    "for c in ax.containers:\n",
    "    print(c.datavalues)\n",
    "    ax.bar_label(c, labels = ['' if v == 0 else int(v) for v in c.datavalues], label_type='center')\n",
    "    \n",
    "# Save the plot\n",
    "plt.tight_layout()\n",
    "# Save as pgf\n",
    "plt.savefig('mentions-by-annotation.pgf')\n",
    "# Show the plot\n",
    "plt.show()"
   ]
  },
  {
   "cell_type": "markdown",
   "metadata": {},
   "source": [
    "Analyse feature distribution over mention types."
   ]
  },
  {
   "cell_type": "code",
   "execution_count": null,
   "metadata": {},
   "outputs": [],
   "source": [
    "# Create a new dataframe and initialize it with the columns we want\n",
    "typ_cols = ['cat', 'subcat', 'feature', 'count']\n",
    "typ_df = pd.DataFrame(columns=typ_cols)\n",
    "\n",
    "# Re-cluster, but this time also record mention type\n",
    "# We need a new map from features to mention types, and from single annotations to mention types\n",
    "for i in df.index:\n",
    "    # Get single values for feature annotations and mention types\n",
    "    acc_raw = df['Accessibility and Principledness'][i]\n",
    "    acc_vals = explode_list(acc_raw)\n",
    "    typ_raw = df['Mention Type'][i]\n",
    "    typ_vals = explode_list(typ_raw)\n",
    "    # Dive into the feature annotations\n",
    "    for acc in acc_vals:\n",
    "        for category in clusters:\n",
    "            # Find the cluster the annotation we look at belongs to\n",
    "            if acc in clusters[category]['annos']:\n",
    "                for typ in typ_vals:\n",
    "                    # Set up filters to find the single row for this combination of \n",
    "                    # category, annotation and mention type\n",
    "                    mf_1 = typ_df['cat'] == category\n",
    "                    mf_2 = typ_df['subcat'] == acc\n",
    "                    mf_3 = typ_df['feature'] == typ\n",
    "                    # Get index of the single filtered row\n",
    "                    indices = typ_df.index[mf_1 & mf_2 & mf_3].tolist()\n",
    "                    # There shold either be a single row, or the row doesn't yet exist. not exist\n",
    "                    # Assert this.\n",
    "                    assert len(indices) in [0, 1]\n",
    "                    target_row = typ_df.loc[mf_1 & mf_2 & mf_3]\n",
    "                    if target_row.empty:\n",
    "                        # Initialize a new row with a count of 1.\n",
    "                        typ_df.loc[len(typ_df.index)] = [category, acc, typ, 1]\n",
    "                    else:\n",
    "                        # Double-check that there is exactly 1 row found, and up the count by 1\n",
    "                        assert len(indices) == 1\n",
    "                        typ_df.at[indices[0], 'count'] += 1\n",
    "\n",
    "# Sort the dataframe\n",
    "typ_df.sort_values(by=['cat', 'subcat', 'feature'], inplace=True)\n",
    "# Create a new dataframe with hierarchical indices for sanity check\n",
    "multi_df = typ_df.set_index(['cat', 'subcat', 'feature', 'count'])\n",
    "# Create a new dataframe that we'll use to plot the results\n",
    "plot_df = typ_df.sort_values(by=['feature', 'cat', 'subcat', 'count'])\n",
    "# Show the saniy check dataframe\n",
    "multi_df"
   ]
  },
  {
   "cell_type": "code",
   "execution_count": null,
   "metadata": {},
   "outputs": [],
   "source": [
    "# Prepare a set and a list of mention types\n",
    "types = set()\n",
    "for values in df['Mention Type'].unique():\n",
    "    types.update(explode_list(values))\n",
    "types_list = list(types)\n",
    "# Prepare a set and a list of accessibility annotations\n",
    "annos = set()\n",
    "for values in df['Accessibility and Principledness'].unique():\n",
    "    annos.update(explode_list(values))\n",
    "annos_list = list(annos)"
   ]
  },
  {
   "cell_type": "code",
   "execution_count": null,
   "metadata": {},
   "outputs": [],
   "source": [
    "%matplotlib inline\n",
    "# Set the colourblind-accessible colours as default colours\n",
    "matplotlib.rcParams['axes.prop_cycle'] = matplotlib.cycler(color=my_colors) \n",
    "# Reindex the plotting dataframe\n",
    "plot_df = plot_df.reindex(columns=['feature', 'cat', 'subcat', 'count'])\n",
    "\n",
    "# Prepare a data structure to be filled from the original dataframe\n",
    "typ_cluster = {\n",
    "    'Author information': {'CRE': {}},\n",
    "    'Software links': {'CACC': {}, 'REP': {}},\n",
    "    'Version information': {'VER': {}, 'CVER': {}},\n",
    "    'Software reference': {'SOF': {}},\n",
    "    'No information': {'N': {}}\n",
    "}\n",
    "\n",
    "# We'll have more than one cluster, prepare a dict\n",
    "clusters = {}\n",
    "\n",
    "# Use the copy package to deep copy the cluster data structure\n",
    "import copy\n",
    "\n",
    "for typ in ['PUB', 'PRO', 'URL', 'INS', 'NAM']:\n",
    "    # Create a deep copy of the data structure to take up values for this mention type\n",
    "    _cl = copy.deepcopy(typ_cluster)\n",
    "    # Create a dedicated dataframe for this mention type\n",
    "    typ_df = plot_df.loc[plot_df['feature'] == typ]\n",
    "    # Iterate through the data type and count occurrences\n",
    "    for i, row in typ_df.iterrows():\n",
    "        _cl[row['cat']][row['subcat']] = row['count']\n",
    "    # Add the data structure to the clusters dict\n",
    "    clusters[typ]= _cl\n",
    "\n",
    "# Prepare 5 vertically stacked subplots for the 5 clusters, which share the x axis\n",
    "fig, axes = plt.subplots(nrows = 5, sharex = True, figsize=(10,14))\n",
    "plt.suptitle('Distribution of mention characteristics over mention types', fontsize='x-large', y=.99, x=.57)\n",
    "\n",
    "# Set up a colour dict, so that the bars for each feature always have the same colour\n",
    "color_dict = {'CRE': my_colors[0], 'CACC': my_colors[1], 'REP': my_colors[2], 'VER': my_colors[3], 'CVER': my_colors[4], 'N': my_colors[6], 'SOF': my_colors[5]}\n",
    "\n",
    "for i, cl in enumerate(clusters.items()):\n",
    "    # Get data for the respective cluster\n",
    "    typ = cl[0]\n",
    "    _df = pd.DataFrame(cl[1]).transpose()\n",
    "    # Create a horizontal bar plot for the data\n",
    "    _ax = _df.plot(kind='barh', stacked=True, color=color_dict, ax=axes[i])\n",
    "    _ax.set_title('Mention characteristics in ' + typ, y=.56, pad=-14, fontsize='small')\n",
    "    plt.xticks(rotation=0, ha='center')\n",
    "    plt.xlabel('Number of characteristics found for mention types.')\n",
    "\n",
    "    # Add values to bar sections\n",
    "    for c in _ax.containers:\n",
    "        _ax.bar_label(c, labels = ['' if v == 0 else int(v) for v in c.datavalues], label_type='center')\n",
    "\n",
    "# Remove the legends from all plots to use a single legend instead\n",
    "for ax in fig.axes:\n",
    "    ax.get_legend().remove()\n",
    "\n",
    "# Create elements for the legend\n",
    "from matplotlib.patches import Patch\n",
    "legend_elements = []\n",
    "for anno in annos:\n",
    "    legend_elements.append(Patch(facecolor=color_dict[anno], label=anno))\n",
    "\n",
    "# Create the unified legend for the subplots\n",
    "fig.legend(handles=legend_elements, ncol=7, \n",
    "           bbox_to_anchor=(.30, 0.045),\n",
    "           loc='lower left', \n",
    "           fontsize='small')\n",
    "\n",
    "# Format, save, and show plot\n",
    "plt.tight_layout()\n",
    "plt.savefig('features-over-mentions.pgf')\n",
    "plt.show()"
   ]
  },
  {
   "cell_type": "markdown",
   "metadata": {},
   "source": [
    "Map characteristics to principles."
   ]
  },
  {
   "cell_type": "code",
   "execution_count": null,
   "metadata": {},
   "outputs": [],
   "source": [
    "# Map principles to existing annotations\n",
    "principles = {\n",
    "    'SOF': 'Importance', \n",
    "    'CRE': 'Credit', \n",
    "    'uniq': 'Unique identification', # No evidence in dataset\n",
    "    'pers': 'Persistence', # No evidence in dataset\n",
    "    'REP': 'Accessibility', \n",
    "    'VER': 'Specificity'\n",
    "}\n",
    "score_dict = {}\n",
    "_score_df = copy.deepcopy(df)\n",
    "# Calculate adherence score\n",
    "for i in _score_df.index:\n",
    "    score_dict[i] = {}\n",
    "    # Explode accessibility annotations\n",
    "    annos = explode_list(_score_df['Accessibility and Principledness'][i])\n",
    "    for principle in principles.items():\n",
    "        if principle[0] in annos:\n",
    "            score_dict[i][principle[1]] = True\n",
    "        else:\n",
    "            score_dict[i][principle[1]] = False\n",
    "score_df = pd.DataFrame(score_dict).transpose()\n",
    "print(score_df)\n",
    "mentions = score_df.columns\n",
    "\n",
    "# Also print the totals for each column\n",
    "for (columnName, columnData) in score_df.iteritems():\n",
    "    print(columnName)\n",
    "    print(columnData.value_counts())\n",
    "    print(u'\\n')\n",
    "\n",
    "# Use the transpose to plot principle on y axis\n",
    "id_matrix = np.array(score_df[mentions].values, dtype=float).T\n",
    "principles = score_df.index\n",
    "\n",
    "fig, ax = plt.subplots(figsize=(15,15))\n",
    "mat = ax.imshow(id_matrix, cmap='GnBu', interpolation='nearest')\n",
    "plt.yticks(range(id_matrix.shape[0]), mentions)\n",
    "plt.xticks(range(id_matrix.shape[1]), principles, fontsize=6)\n",
    "plt.xlabel('Mention ID')\n",
    "plt.ylabel('Principle')\n",
    "\n",
    "plt.tight_layout()\n",
    "plt.savefig('adherence.pgf')\n",
    "plt.show()"
   ]
  },
  {
   "cell_type": "code",
   "execution_count": null,
   "metadata": {},
   "outputs": [],
   "source": []
  }
 ],
 "metadata": {
  "celltoolbar": "Raw Cell Format",
  "kernelspec": {
   "display_name": "Python 3 (ipykernel)",
   "language": "python",
   "name": "python3"
  },
  "language_info": {
   "codemirror_mode": {
    "name": "ipython",
    "version": 3
   },
   "file_extension": ".py",
   "mimetype": "text/x-python",
   "name": "python",
   "nbconvert_exporter": "python",
   "pygments_lexer": "ipython3",
   "version": "3.8.10"
  }
 },
 "nbformat": 4,
 "nbformat_minor": 4
}
