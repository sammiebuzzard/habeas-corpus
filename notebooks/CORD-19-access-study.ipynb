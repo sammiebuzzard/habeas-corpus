{
 "cells": [
  {
   "cell_type": "markdown",
   "metadata": {},
   "source": [
    "# CORD-19 Software Mentions - Access Study"
   ]
  },
  {
   "cell_type": "markdown",
   "metadata": {},
   "source": [
    "## Relation between citation characteristics and accessibility for analysis (RQ2)\n",
    "\n",
    "In order to understand research software projects better, e.g., to\n",
    "determine the qualities and characteristics that make research software projects\n",
    "successful under a given definition of success, or that help make them sustainable,\n",
    "or that underlie their collapse, access to their source code repositories is needed.\n",
    "We wanted to find out which characteristics of software citations enable this access,\n",
    "and how they relate to adherence to the software citation principles.\n",
    "\n",
    "Some observable qualities of software mentions and citations can be linked to\n",
    "adherence to the software citation principles:\n",
    "a citation to software follows the principle of *Importance*, \n",
    "not mentioning a software violates that principle; \n",
    "identifying authors in references follows the *Credit and attribution* principle; \n",
    "providing access to a persistently archived version of source code in citations or references follows the *Persistence* principle; \n",
    "providing access to the source code more generally follows the *Accessibility* principle,\n",
    "which is the one that this question is most concerned with;\n",
    "providing version information for software that was used follows the *Specificity* principle.\n",
    "\n",
    "The results of this part of the study would provide evidence concerning the suitability\n",
    "of the software citation principles for software accessibility."
   ]
  },
  {
   "cell_type": "markdown",
   "metadata": {},
   "source": [
    "## Methodology\n",
    "\n",
    "The dataset of 80 software mentions was manually annotated by SD to\n",
    "classify for adherence to the software citation principles, and the\n",
    "possibility to directly or indirectly access the source code of the\n",
    "mentioned software.\n",
    "The table below presents the annotations for\n",
    "mention features that were actually found in the dataset. The dataset\n",
    "itself is available as *CSM\\_sampled\\_mention\\_access.csv*.\n",
    "\n",
    "  | Code |   Description |\n",
    "  | :--- | :--- |\n",
    "  | VER | Version information in reference\n",
    "  | CVER | Version information near mention\n",
    "  | CRE | Information in reference allowing for personal credit\n",
    "  | REP | Link to community repository in reference\n",
    "  | CACC | Link to source code near mention\n",
    "\n",
    "> Table: Annotations for accessibility\n",
    "  and adherence to the software citation principles, for which\n",
    "  respective mention features could be found in our dataset."
   ]
  },
  {
   "cell_type": "code",
   "execution_count": 51,
   "metadata": {},
   "outputs": [],
   "source": [
    "# Import dependencies\n",
    "import pandas as pd\n",
    "import numpy as np"
   ]
  },
  {
   "cell_type": "markdown",
   "metadata": {},
   "source": [
    "We read the access dataset as a pandas dataframe, and print it as a sanity check."
   ]
  },
  {
   "cell_type": "code",
   "execution_count": 52,
   "metadata": {},
   "outputs": [
    {
     "name": "stdout",
     "output_type": "stream",
     "text": [
      "    Unnamed: 0   ID       Title QACode Mention Type  \\\n",
      "0            0    1  Sequencher     SC          INS   \n",
      "1            1    1  Sequencher     SC          NAM   \n",
      "2            2    1  Sequencher     SC          NAM   \n",
      "3            3    1  Sequencher     SC          PRO   \n",
      "4            4    1  Sequencher     SC          INS   \n",
      "..         ...  ...         ...    ...          ...   \n",
      "75          75   91         SYN     ST          PUB   \n",
      "76          76   94    Adequest     SC          INS   \n",
      "77          77   96   NRSur PHM     SC          PUB   \n",
      "78          78   97       PVSio     ST          PUB   \n",
      "79          79  100      discmo     ST          NAM   \n",
      "\n",
      "   Accessibility and Principledness Access  \\\n",
      "0                              CVER      N   \n",
      "1                              CVER      N   \n",
      "2                              CVER      N   \n",
      "3                               VER      N   \n",
      "4                              CVER      N   \n",
      "..                              ...    ...   \n",
      "75                              CRE      N   \n",
      "76                                N      N   \n",
      "77                              CRE      N   \n",
      "78                              CRE      I   \n",
      "79                                N      N   \n",
      "\n",
      "                                         Access notes  \\\n",
      "0                                                   0   \n",
      "1                                                   0   \n",
      "2                                                   0   \n",
      "3                                                   0   \n",
      "4                                                   0   \n",
      "..                                                ...   \n",
      "75                                                  0   \n",
      "76                                                  0   \n",
      "77                                                  0   \n",
      "78  Access to GitHub repo via project website link...   \n",
      "79                                                  0   \n",
      "\n",
      "                         Source code repo                   Mentioning DOIs  \\\n",
      "0                                       0             10.1093/infdis/jiy036   \n",
      "1                                       0      10.1016/j.meegid.2012.09.016   \n",
      "2                                       0    10.1016/j.jviromet.2012.11.014   \n",
      "3                                       0      10.1371/journal.pone.0205209   \n",
      "4                                       0  10.12688/wellcomeopenres.14836.2   \n",
      "..                                    ...                               ...   \n",
      "75                                      0            10.1093/mnras/staa4047   \n",
      "76                                      0        10.1016/j.xkme.2020.09.011   \n",
      "77                                      0          10.3847/2041-8213/aba493   \n",
      "78  https://github.com/pvsioweb/pvsio-web      10.1007/978-3-030-48077-6_21   \n",
      "79                                      0       10.1101/2020.03.27.20044156   \n",
      "\n",
      "                                                Notes  \n",
      "0   Double check: probably commercial from http://...  \n",
      "1   Double check: probably commercial from http://...  \n",
      "2   Double check: probably commercial from http://...  \n",
      "3   Sequencher commercial software from http://www...  \n",
      "4   Sequencher commercial software from http://www...  \n",
      "..                                                ...  \n",
      "75  Should by SYN++, companion code to SYNAPPS. Bu...  \n",
      "76  Software by Baxter, Inc. - see https://renalca...  \n",
      "77  Astrophysics code. The name stands for the mod...  \n",
      "78                              Actually: PVSio-Web;   \n",
      "79  Mispelling of R package disco: https://github....  \n",
      "\n",
      "[80 rows x 11 columns]\n"
     ]
    }
   ],
   "source": [
    "df = pd.read_csv(r'../data/access_study/CSM_sampled_mention_access.csv', encoding='unicode_escape', engine='python', index_col=False).fillna(0)\n",
    "print(df)"
   ]
  },
  {
   "cell_type": "markdown",
   "metadata": {},
   "source": [
    "### Accessibility\n",
    "\n",
    "We print the totals for each access type annotation.\n",
    "\n",
    "The annotations are in column *Access*, where\n",
    "*D* means *direct access is possible from the mention*,\n",
    "*I* means _**in**direct access is possible from the mention_ and\n",
    "*N* means *no access is possible from the mention*.\n",
    "\n",
    "We also convert the raw values to printable column headers."
   ]
  },
  {
   "cell_type": "code",
   "execution_count": 53,
   "metadata": {},
   "outputs": [
    {
     "data": {
      "text/plain": [
       "No access          66\n",
       "Indirect access    12\n",
       "Direct access       2\n",
       "Name: Access, dtype: int64"
      ]
     },
     "execution_count": 53,
     "metadata": {},
     "output_type": "execute_result"
    }
   ],
   "source": [
    "access = df['Access']\n",
    "access = access.str.replace('N', 'No access')\n",
    "access = access.str.replace('D', 'Direct access')\n",
    "access = access.str.replace('I', 'Indirect access')\n",
    "access_totals = access.value_counts()\n",
    "access_totals"
   ]
  },
  {
   "cell_type": "markdown",
   "metadata": {},
   "source": [
    "We calculate the percentages for each of the totals."
   ]
  },
  {
   "cell_type": "code",
   "execution_count": 54,
   "metadata": {},
   "outputs": [
    {
     "data": {
      "text/html": [
       "<div>\n",
       "<style scoped>\n",
       "    .dataframe tbody tr th:only-of-type {\n",
       "        vertical-align: middle;\n",
       "    }\n",
       "\n",
       "    .dataframe tbody tr th {\n",
       "        vertical-align: top;\n",
       "    }\n",
       "\n",
       "    .dataframe thead th {\n",
       "        text-align: right;\n",
       "    }\n",
       "</style>\n",
       "<table border=\"1\" class=\"dataframe\">\n",
       "  <thead>\n",
       "    <tr style=\"text-align: right;\">\n",
       "      <th></th>\n",
       "      <th>No. of mentions</th>\n",
       "      <th>% of mentions</th>\n",
       "    </tr>\n",
       "  </thead>\n",
       "  <tbody>\n",
       "    <tr>\n",
       "      <th>No access</th>\n",
       "      <td>66</td>\n",
       "      <td>82.5</td>\n",
       "    </tr>\n",
       "    <tr>\n",
       "      <th>Indirect access</th>\n",
       "      <td>12</td>\n",
       "      <td>15.0</td>\n",
       "    </tr>\n",
       "    <tr>\n",
       "      <th>Direct access</th>\n",
       "      <td>2</td>\n",
       "      <td>2.5</td>\n",
       "    </tr>\n",
       "  </tbody>\n",
       "</table>\n",
       "</div>"
      ],
      "text/plain": [
       "                 No. of mentions % of mentions\n",
       "No access                     66          82.5\n",
       "Indirect access               12          15.0\n",
       "Direct access                  2           2.5"
      ]
     },
     "execution_count": 54,
     "metadata": {},
     "output_type": "execute_result"
    }
   ],
   "source": [
    "access_percent = access.value_counts(normalize=True)\n",
    "access_percent100 = access_percent.mul(100).round(1).astype(str)\n",
    "access_df = pd.DataFrame({'No. of mentions': access_totals, '% of mentions': access_percent100})\n",
    "access_df"
   ]
  },
  {
   "cell_type": "markdown",
   "metadata": {},
   "source": [
    "We convert this new dataframe to latex and print it."
   ]
  },
  {
   "cell_type": "code",
   "execution_count": 55,
   "metadata": {},
   "outputs": [
    {
     "name": "stdout",
     "output_type": "stream",
     "text": [
      "\\begin{tabular}{lrl}\n",
      "\\toprule\n",
      "{} &  No. of mentions & \\% of mentions \\\\\n",
      "\\midrule\n",
      "No access       &               66 &          82.5 \\\\\n",
      "Indirect access &               12 &          15.0 \\\\\n",
      "Direct access   &                2 &           2.5 \\\\\n",
      "\\bottomrule\n",
      "\\end{tabular}\n",
      "\n"
     ]
    }
   ],
   "source": [
    "print(access_df.to_latex())"
   ]
  },
  {
   "cell_type": "markdown",
   "metadata": {},
   "source": [
    "### Adherence to principles\n",
    "\n",
    "We look at the characteristics that we expect to have in adherence to the software citation principles.\n",
    "\n",
    "We cannot detect the ommission of mentions for software that was used in reported research, but we can detect the existence of\n",
    "- author names that allow for credit;\n",
    "- a link or identifier for a persistently archived version of the software that was used;\n",
    "- a link that allows us to access the source code;\n",
    "- a version identifier.\n",
    "\n",
    "The dataset contains annotations for instances where we found this information:"
   ]
  },
  {
   "cell_type": "code",
   "execution_count": 56,
   "metadata": {},
   "outputs": [
    {
     "name": "stdout",
     "output_type": "stream",
     "text": [
      "\\begin{tabular}{rl}\n",
      "\\toprule\n",
      "{} &                                  Description \\\\\n",
      "\\midrule\n",
      "CRE  &   Creditable author information in reference \\\\\n",
      "CACC &  Link for access to source code near mention \\\\\n",
      "CVER &             Version information near mention \\\\\n",
      "VER  &             Version information in reference \\\\\n",
      "REP  &    Link to community repository in reference \\\\\n",
      "N    &    No information in adherence to principles \\\\\n",
      "\\bottomrule\n",
      "\\end{tabular}\n",
      "\n"
     ]
    }
   ],
   "source": [
    "expanded_annos = {\n",
    "    'CRE': 'Creditable author information in reference',\n",
    "    'CACC': 'Link for access to source code near mention',\n",
    "    'CVER': 'Version information near mention',\n",
    "    'VER': 'Version information in reference',\n",
    "    'REP': 'Link to community repository in reference',\n",
    "    'N': 'No information in adherence to principles',\n",
    "}\n",
    "\n",
    "# Render as LaTeX\n",
    "print(pd.DataFrame(expanded_annos, index = ['Description']).transpose().to_latex(column_format='rl'))"
   ]
  },
  {
   "cell_type": "markdown",
   "metadata": {},
   "source": [
    "Now count the occurrence of annotations."
   ]
  },
  {
   "cell_type": "code",
   "execution_count": 57,
   "metadata": {},
   "outputs": [
    {
     "data": {
      "text/plain": [
       "{'Author information': {'annos': {'CRE'}, 'CRE': 25},\n",
       " 'Software links': {'annos': {'CACC', 'REP'}, 'CACC': 1, 'REP': 1},\n",
       " 'Version information': {'annos': {'CVER', 'VER'}, 'CVER': 14, 'VER': 3},\n",
       " 'No information': {'annos': {'N'}, 'N': 42}}"
      ]
     },
     "execution_count": 57,
     "metadata": {},
     "output_type": "execute_result"
    }
   ],
   "source": [
    "# Create data structure with clustering information\n",
    "clusters = {\n",
    "    'Author information': {'annos': {'CRE'}},\n",
    "    'Software links': {'annos': {'CACC', 'REP'}},\n",
    "    'Version information': {'annos': {'VER', 'CVER'}},\n",
    "    'No information': {'annos': {'N'}}\n",
    "}\n",
    "\n",
    "# Cluster the annotations\n",
    "for i in df.index:\n",
    "    for category in clusters:\n",
    "        raw_val = df['Accessibility and Principledness'][i]\n",
    "        # Split and strip potentially comma-separated annotations\n",
    "        vals = raw_val.split(',')\n",
    "        vals = [v.strip() for v in vals]\n",
    "        for val in vals:\n",
    "            if val in clusters[category]['annos']:\n",
    "                # Iterate count if cuont already exists, or create inital count\n",
    "                if val in clusters[category]:\n",
    "                    clusters[category][val] += 1\n",
    "                else:\n",
    "                    clusters[category][val] = 1\n",
    "\n",
    "clusters"
   ]
  },
  {
   "cell_type": "markdown",
   "metadata": {},
   "source": [
    "Create a new dataframe to hold the clusters, and sum up occurrences for single features in cluster category."
   ]
  },
  {
   "cell_type": "code",
   "execution_count": 58,
   "metadata": {},
   "outputs": [
    {
     "data": {
      "text/html": [
       "<div>\n",
       "<style scoped>\n",
       "    .dataframe tbody tr th:only-of-type {\n",
       "        vertical-align: middle;\n",
       "    }\n",
       "\n",
       "    .dataframe tbody tr th {\n",
       "        vertical-align: top;\n",
       "    }\n",
       "\n",
       "    .dataframe thead th {\n",
       "        text-align: right;\n",
       "    }\n",
       "</style>\n",
       "<table border=\"1\" class=\"dataframe\">\n",
       "  <thead>\n",
       "    <tr style=\"text-align: right;\">\n",
       "      <th></th>\n",
       "      <th>Total</th>\n",
       "      <th>CRE</th>\n",
       "      <th>CACC</th>\n",
       "      <th>REP</th>\n",
       "      <th>CVER</th>\n",
       "      <th>VER</th>\n",
       "      <th>N</th>\n",
       "    </tr>\n",
       "  </thead>\n",
       "  <tbody>\n",
       "    <tr>\n",
       "      <th>Author information</th>\n",
       "      <td>25</td>\n",
       "      <td>25</td>\n",
       "      <td>0</td>\n",
       "      <td>0</td>\n",
       "      <td>0</td>\n",
       "      <td>0</td>\n",
       "      <td>0</td>\n",
       "    </tr>\n",
       "    <tr>\n",
       "      <th>Software links</th>\n",
       "      <td>2</td>\n",
       "      <td>0</td>\n",
       "      <td>1</td>\n",
       "      <td>1</td>\n",
       "      <td>0</td>\n",
       "      <td>0</td>\n",
       "      <td>0</td>\n",
       "    </tr>\n",
       "    <tr>\n",
       "      <th>Version information</th>\n",
       "      <td>17</td>\n",
       "      <td>0</td>\n",
       "      <td>0</td>\n",
       "      <td>0</td>\n",
       "      <td>14</td>\n",
       "      <td>3</td>\n",
       "      <td>0</td>\n",
       "    </tr>\n",
       "    <tr>\n",
       "      <th>No information</th>\n",
       "      <td>42</td>\n",
       "      <td>0</td>\n",
       "      <td>0</td>\n",
       "      <td>0</td>\n",
       "      <td>0</td>\n",
       "      <td>0</td>\n",
       "      <td>42</td>\n",
       "    </tr>\n",
       "  </tbody>\n",
       "</table>\n",
       "</div>"
      ],
      "text/plain": [
       "                     Total CRE CACC REP CVER VER   N\n",
       "Author information      25  25    0   0    0   0   0\n",
       "Software links           2   0    1   1    0   0   0\n",
       "Version information     17   0    0   0   14   3   0\n",
       "No information          42   0    0   0    0   0  42"
      ]
     },
     "execution_count": 58,
     "metadata": {},
     "output_type": "execute_result"
    }
   ],
   "source": [
    "# NaN values in dataframe should be filled with zeroes, and dataframe should be transposed\n",
    "df2 = pd.DataFrame(clusters).fillna(0).transpose()\n",
    "# Drop the unneeded column showing the annotations belonging to a category\n",
    "df2 = df2.drop(['annos'], axis=1)\n",
    "# Add a column showing the category total, summing up the counts of the single subcategories\n",
    "df2.insert(0, 'Total', df2.sum(axis=1, skipna=True).astype(int))\n",
    "df2"
   ]
  },
  {
   "cell_type": "code",
   "execution_count": 59,
   "metadata": {},
   "outputs": [
    {
     "name": "stdout",
     "output_type": "stream",
     "text": [
      "\\begin{tabular}{rccccccc}\n",
      "\\toprule\n",
      " Total & CRE & CACC & REP & CVER & VER &  N \\\\\n",
      "\\midrule\n",
      "    25 &  25 &    0 &   0 &    0 &   0 &  0 \\\\\n",
      "     2 &   0 &    1 &   1 &    0 &   0 &  0 \\\\\n",
      "    17 &   0 &    0 &   0 &   14 &   3 &  0 \\\\\n",
      "    42 &   0 &    0 &   0 &    0 &   0 & 42 \\\\\n",
      "\\bottomrule\n",
      "\\end{tabular}\n",
      "\n"
     ]
    }
   ],
   "source": [
    "# Render the new dataframe as a LaTeX table\n",
    "print(df2.to_latex(index=False, column_format='rccccccc'))"
   ]
  },
  {
   "cell_type": "markdown",
   "metadata": {},
   "source": [
    "Render this more nicely as a stacked bar plot."
   ]
  },
  {
   "cell_type": "code",
   "execution_count": 60,
   "metadata": {},
   "outputs": [
    {
     "data": {
      "text/plain": [
       "(array([0, 1, 2, 3]),\n",
       " [Text(0, 0, 'No information'),\n",
       "  Text(1, 0, 'Author information'),\n",
       "  Text(2, 0, 'Version information'),\n",
       "  Text(3, 0, 'Software links')])"
      ]
     },
     "execution_count": 60,
     "metadata": {},
     "output_type": "execute_result"
    },
    {
     "data": {
      "image/png": "[encoded data removed]",
      "text/plain": [
       "<Figure size 576x360 with 1 Axes>"
      ]
     },
     "metadata": {
      "needs_background": "light"
     },
     "output_type": "display_data"
    }
   ],
   "source": [
    "import matplotlib.pyplot as plt\n",
    "\n",
    "# Sort by category total in decending order\n",
    "df2.sort_values(by=['Total'], inplace=True, ascending=False)\n",
    "\n",
    "# Collect columns to render (exclude Total)\n",
    "plot_cols = [col for col in df2.columns.tolist() if col not in ['Total']]\n",
    "\n",
    "# Colourblind/-friendly colours adapted from https://gist.github.com/thriveth/8560036\n",
    "my_colors = ['#4daf4a', '#f781bf', '#e41a1c', '#984ea3', '#999999', '#a65628', '#dede00']\n",
    "\n",
    "# Create the plot\n",
    "df2[plot_cols].plot(kind='bar', stacked=True, figsize=(8,5), color=my_colors)\n",
    "\n",
    "# Add a title and rotate the x-axis labels to be horizontal\n",
    "plt.title('Mention features by annotation')\n",
    "plt.xticks(rotation=0, ha='center')"
   ]
  },
  {
   "cell_type": "code",
   "execution_count": null,
   "metadata": {},
   "outputs": [],
   "source": []
  }
 ],
 "metadata": {
  "celltoolbar": "Raw Cell Format",
  "kernelspec": {
   "display_name": "Python 3 (ipykernel)",
   "language": "python",
   "name": "python3"
  },
  "language_info": {
   "codemirror_mode": {
    "name": "ipython",
    "version": 3
   },
   "file_extension": ".py",
   "mimetype": "text/x-python",
   "name": "python",
   "nbconvert_exporter": "python",
   "pygments_lexer": "ipython3",
   "version": "3.8.10"
  }
 },
 "nbformat": 4,
 "nbformat_minor": 4
}
