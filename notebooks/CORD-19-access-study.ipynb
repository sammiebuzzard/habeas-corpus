{
 "cells": [
  {
   "cell_type": "markdown",
   "metadata": {},
   "source": [
    "# CORD-19 Software Mentions - Access Study"
   ]
  },
  {
   "cell_type": "markdown",
   "metadata": {},
   "source": [
    "## Relation between citation characteristics and accessibility for analysis (RQ2)\n",
    "\n",
    "In order to understand research software projects better, e.g., to\n",
    "determine the qualities and characteristics that make research software projects\n",
    "successful under a given definition of success, or that help make them sustainable,\n",
    "or that underlie their collapse, access to their source code repositories is needed.\n",
    "We wanted to find out which characteristics of software citations enable this access,\n",
    "and how they relate to adherence to the software citation principles.\n",
    "\n",
    "Some observable qualities of software mentions and citations can be linked to\n",
    "adherence to the software citation principles:\n",
    "a citation to software follows the principle of *Importance*, \n",
    "not mentioning a software violates that principle; \n",
    "identifying authors in references follows the *Credit and attribution* principle; \n",
    "providing access to a persistently archived version of source code in citations or references follows the *Persistence* principle; \n",
    "providing access to the source code more generally follows the *Accessibility* principle,\n",
    "which is the one that this question is most concerned with;\n",
    "providing version information for software that was used follows the *Specificity* principle.\n",
    "\n",
    "The results of this part of the study would provide evidence concerning the suitability\n",
    "of the software citation principles for software accessibility."
   ]
  },
  {
   "cell_type": "markdown",
   "metadata": {},
   "source": [
    "## Methodology\n",
    "\n",
    "The dataset of 80 software mentions was manually annotated by SD to\n",
    "classify for adherence to the software citation principles, and the\n",
    "possibility to directly or indirectly access the source code of the\n",
    "mentioned software.\n",
    "The table below presents the annotations for\n",
    "mention features that were actually found in the dataset. The dataset\n",
    "itself is available as *CSM\\_sampled\\_mention\\_access.csv*.\n",
    "\n",
    "  | Code |   Description |\n",
    "  | :--- | :--- |\n",
    "  | VER | Version information in reference\n",
    "  | CVER | Version information near mention\n",
    "  | CRE | Information in reference allowing for personal credit\n",
    "  | REP | Link to community repository in reference\n",
    "  | CACC | Link to source code near mention\n",
    "\n",
    "> Table: Annotations for accessibility\n",
    "  and adherence to the software citation principles, for which\n",
    "  respective mention features could be found in our dataset."
   ]
  },
  {
   "cell_type": "code",
   "execution_count": 15,
   "metadata": {},
   "outputs": [],
   "source": [
    "# Import dependencies\n",
    "import pandas as pd\n",
    "import numpy as np"
   ]
  },
  {
   "cell_type": "markdown",
   "metadata": {},
   "source": [
    "Read the access dataset as a pandas dataframe, and print it as a sanity check."
   ]
  },
  {
   "cell_type": "code",
   "execution_count": 16,
   "metadata": {},
   "outputs": [
    {
     "name": "stdout",
     "output_type": "stream",
     "text": [
      "    Unnamed: 0   ID       Title QACode Mention Type  \\\n",
      "0            0    1  Sequencher     SC          INS   \n",
      "1            1    1  Sequencher     SC          NAM   \n",
      "2            2    1  Sequencher     SC          NAM   \n",
      "3            3    1  Sequencher     SC          PRO   \n",
      "4            4    1  Sequencher     SC          INS   \n",
      "..         ...  ...         ...    ...          ...   \n",
      "75          75   91         SYN     ST          PUB   \n",
      "76          76   94    Adequest     SC          INS   \n",
      "77          77   96   NRSur PHM     SC          PUB   \n",
      "78          78   97       PVSio     ST          PUB   \n",
      "79          79  100      discmo     ST          NAM   \n",
      "\n",
      "   Accessibility and Principledness Access  \\\n",
      "0                              CVER      N   \n",
      "1                              CVER      N   \n",
      "2                              CVER      N   \n",
      "3                               VER      N   \n",
      "4                              CVER      N   \n",
      "..                              ...    ...   \n",
      "75                              CRE      N   \n",
      "76                                N      N   \n",
      "77                              CRE      N   \n",
      "78                              CRE      I   \n",
      "79                                N      N   \n",
      "\n",
      "                                         Access notes  \\\n",
      "0                                                   0   \n",
      "1                                                   0   \n",
      "2                                                   0   \n",
      "3                                                   0   \n",
      "4                                                   0   \n",
      "..                                                ...   \n",
      "75                                                  0   \n",
      "76                                                  0   \n",
      "77                                                  0   \n",
      "78  Access to GitHub repo via project website link...   \n",
      "79                                                  0   \n",
      "\n",
      "                         Source code repo                   Mentioning DOIs  \\\n",
      "0                                       0             10.1093/infdis/jiy036   \n",
      "1                                       0      10.1016/j.meegid.2012.09.016   \n",
      "2                                       0    10.1016/j.jviromet.2012.11.014   \n",
      "3                                       0      10.1371/journal.pone.0205209   \n",
      "4                                       0  10.12688/wellcomeopenres.14836.2   \n",
      "..                                    ...                               ...   \n",
      "75                                      0            10.1093/mnras/staa4047   \n",
      "76                                      0        10.1016/j.xkme.2020.09.011   \n",
      "77                                      0          10.3847/2041-8213/aba493   \n",
      "78  https://github.com/pvsioweb/pvsio-web      10.1007/978-3-030-48077-6_21   \n",
      "79                                      0       10.1101/2020.03.27.20044156   \n",
      "\n",
      "                                                Notes  \n",
      "0   Double check: probably commercial from http://...  \n",
      "1   Double check: probably commercial from http://...  \n",
      "2   Double check: probably commercial from http://...  \n",
      "3   Sequencher commercial software from http://www...  \n",
      "4   Sequencher commercial software from http://www...  \n",
      "..                                                ...  \n",
      "75  Should by SYN++, companion code to SYNAPPS. Bu...  \n",
      "76  Software by Baxter, Inc. - see https://renalca...  \n",
      "77  Astrophysics code. The name stands for the mod...  \n",
      "78                              Actually: PVSio-Web;   \n",
      "79  Mispelling of R package disco: https://github....  \n",
      "\n",
      "[80 rows x 11 columns]\n"
     ]
    }
   ],
   "source": [
    "df = pd.read_csv(r'../data/access_study/CSM_sampled_mention_access.csv', encoding='unicode_escape', engine='python', index_col=False).fillna(0)\n",
    "print(df)"
   ]
  },
  {
   "cell_type": "markdown",
   "metadata": {},
   "source": [
    "### Accessibility\n",
    "\n",
    "Print the totals for each access type annotation.\n",
    "\n",
    "The annotations are in column *Access*, where\n",
    "*D* means *direct access is possible from the mention*,\n",
    "*I* means _**in**direct access is possible from the mention_ and\n",
    "*N* means *no access is possible from the mention*.\n",
    "\n",
    "Also convert the raw values to printable column headers."
   ]
  },
  {
   "cell_type": "code",
   "execution_count": 17,
   "metadata": {},
   "outputs": [
    {
     "data": {
      "text/plain": [
       "No access          66\n",
       "Indirect access    12\n",
       "Direct access       2\n",
       "Name: Access, dtype: int64"
      ]
     },
     "execution_count": 17,
     "metadata": {},
     "output_type": "execute_result"
    }
   ],
   "source": [
    "access = df['Access']\n",
    "access = access.str.replace('N', 'No access')\n",
    "access = access.str.replace('D', 'Direct access')\n",
    "access = access.str.replace('I', 'Indirect access')\n",
    "access_totals = access.value_counts()\n",
    "access_totals"
   ]
  },
  {
   "cell_type": "markdown",
   "metadata": {},
   "source": [
    "Calculate the percentages for each of the totals."
   ]
  },
  {
   "cell_type": "code",
   "execution_count": 18,
   "metadata": {},
   "outputs": [
    {
     "data": {
      "text/html": [
       "<div>\n",
       "<style scoped>\n",
       "    .dataframe tbody tr th:only-of-type {\n",
       "        vertical-align: middle;\n",
       "    }\n",
       "\n",
       "    .dataframe tbody tr th {\n",
       "        vertical-align: top;\n",
       "    }\n",
       "\n",
       "    .dataframe thead th {\n",
       "        text-align: right;\n",
       "    }\n",
       "</style>\n",
       "<table border=\"1\" class=\"dataframe\">\n",
       "  <thead>\n",
       "    <tr style=\"text-align: right;\">\n",
       "      <th></th>\n",
       "      <th>No. of mentions</th>\n",
       "      <th>% of mentions</th>\n",
       "    </tr>\n",
       "  </thead>\n",
       "  <tbody>\n",
       "    <tr>\n",
       "      <th>No access</th>\n",
       "      <td>66</td>\n",
       "      <td>82.5</td>\n",
       "    </tr>\n",
       "    <tr>\n",
       "      <th>Indirect access</th>\n",
       "      <td>12</td>\n",
       "      <td>15.0</td>\n",
       "    </tr>\n",
       "    <tr>\n",
       "      <th>Direct access</th>\n",
       "      <td>2</td>\n",
       "      <td>2.5</td>\n",
       "    </tr>\n",
       "  </tbody>\n",
       "</table>\n",
       "</div>"
      ],
      "text/plain": [
       "                 No. of mentions % of mentions\n",
       "No access                     66          82.5\n",
       "Indirect access               12          15.0\n",
       "Direct access                  2           2.5"
      ]
     },
     "execution_count": 18,
     "metadata": {},
     "output_type": "execute_result"
    }
   ],
   "source": [
    "access_percent = access.value_counts(normalize=True)\n",
    "access_percent100 = access_percent.mul(100).round(1).astype(str)\n",
    "access_df = pd.DataFrame({'No. of mentions': access_totals, '% of mentions': access_percent100})\n",
    "access_df"
   ]
  },
  {
   "cell_type": "markdown",
   "metadata": {},
   "source": [
    "Convert this new dataframe to latex and print it."
   ]
  },
  {
   "cell_type": "code",
   "execution_count": 19,
   "metadata": {},
   "outputs": [
    {
     "name": "stdout",
     "output_type": "stream",
     "text": [
      "\\begin{tabular}{lrl}\n",
      "\\toprule\n",
      "{} &  No. of mentions & \\% of mentions \\\\\n",
      "\\midrule\n",
      "No access       &               66 &          82.5 \\\\\n",
      "Indirect access &               12 &          15.0 \\\\\n",
      "Direct access   &                2 &           2.5 \\\\\n",
      "\\bottomrule\n",
      "\\end{tabular}\n",
      "\n"
     ]
    }
   ],
   "source": [
    "print(access_df.to_latex())"
   ]
  },
  {
   "cell_type": "markdown",
   "metadata": {},
   "source": [
    "### Adherence to principles\n",
    "\n",
    "Look at the characteristics that one expects to have in adherence to the software citation principles.\n",
    "\n",
    "We cannot detect the ommission of mentions for software that was used in reported research, but we can detect the existence of\n",
    "- author names that allow for credit;\n",
    "- a link or identifier for a persistently archived version of the software that was used;\n",
    "- a link that allows us to access the source code;\n",
    "- a version identifier.\n",
    "\n",
    "The dataset contains annotations for instances where we found this information:"
   ]
  },
  {
   "cell_type": "code",
   "execution_count": 20,
   "metadata": {},
   "outputs": [
    {
     "name": "stdout",
     "output_type": "stream",
     "text": [
      "\\begin{tabular}{rl}\n",
      "\\toprule\n",
      "{} &                                  Description \\\\\n",
      "\\midrule\n",
      "CRE  &   Creditable author information in reference \\\\\n",
      "CACC &  Link for access to source code near mention \\\\\n",
      "CVER &             Version information near mention \\\\\n",
      "VER  &             Version information in reference \\\\\n",
      "REP  &    Link to community repository in reference \\\\\n",
      "N    &    No information in adherence to principles \\\\\n",
      "\\bottomrule\n",
      "\\end{tabular}\n",
      "\n"
     ]
    }
   ],
   "source": [
    "expanded_annos = {\n",
    "    'CRE': 'Creditable author information in reference',\n",
    "    'CACC': 'Link for access to source code near mention',\n",
    "    'CVER': 'Version information near mention',\n",
    "    'VER': 'Version information in reference',\n",
    "    'REP': 'Link to community repository in reference',\n",
    "    'N': 'No information in adherence to principles',\n",
    "}\n",
    "\n",
    "# Render as LaTeX\n",
    "print(pd.DataFrame(expanded_annos, index = ['Description']).transpose().to_latex(column_format='rl'))"
   ]
  },
  {
   "cell_type": "markdown",
   "metadata": {},
   "source": [
    "Define a function for exploding cell-values that are comma-separated string lists."
   ]
  },
  {
   "cell_type": "code",
   "execution_count": null,
   "metadata": {},
   "outputs": [],
   "source": [
    "# We need to expand a) comma-separated mention types, and then b) comma-separated features.\n",
    "def explode_list(str_list_candidate):\n",
    "    '''Explodes a comma-separated string list into a Python list.'''\n",
    "    items = str_list_candidate.split(',')\n",
    "    items = [i.strip() for i in items]\n",
    "    return items"
   ]
  },
  {
   "cell_type": "markdown",
   "metadata": {},
   "source": [
    "Now count the occurrence of annotations."
   ]
  },
  {
   "cell_type": "code",
   "execution_count": 21,
   "metadata": {},
   "outputs": [
    {
     "data": {
      "text/plain": [
       "{'Author information': {'annos': {'CRE'}, 'CRE': 25},\n",
       " 'Software links': {'annos': {'CACC', 'REP'}, 'CACC': 1, 'REP': 1},\n",
       " 'Version information': {'annos': {'CVER', 'VER'}, 'CVER': 14, 'VER': 3},\n",
       " 'No information': {'annos': {'N'}, 'N': 42}}"
      ]
     },
     "execution_count": 21,
     "metadata": {},
     "output_type": "execute_result"
    }
   ],
   "source": [
    "# Create data structure with clustering information\n",
    "clusters = {\n",
    "    'Author information': {'annos': {'CRE'}},\n",
    "    'Software links': {'annos': {'CACC', 'REP'}},\n",
    "    'Version information': {'annos': {'VER', 'CVER'}},\n",
    "    'No information': {'annos': {'N'}}\n",
    "}\n",
    "\n",
    "# Cluster the annotations\n",
    "for i in df.index:\n",
    "    for category in clusters:\n",
    "        raw_val = df['Accessibility and Principledness'][i]\n",
    "        vals = explode_list(raw_val)\n",
    "        for val in vals:\n",
    "            if val in clusters[category]['annos']:\n",
    "                # Iterate count if count already exists, or create inital count\n",
    "                if val in clusters[category]:\n",
    "                    clusters[category][val] += 1\n",
    "                else:\n",
    "                    clusters[category][val] = 1\n",
    "\n",
    "# Print final data structure as sanity check\n",
    "clusters"
   ]
  },
  {
   "cell_type": "markdown",
   "metadata": {},
   "source": [
    "Create a new dataframe to hold the clusters, and sum up occurrences for single features in cluster category."
   ]
  },
  {
   "cell_type": "code",
   "execution_count": 22,
   "metadata": {},
   "outputs": [
    {
     "data": {
      "text/html": [
       "<div>\n",
       "<style scoped>\n",
       "    .dataframe tbody tr th:only-of-type {\n",
       "        vertical-align: middle;\n",
       "    }\n",
       "\n",
       "    .dataframe tbody tr th {\n",
       "        vertical-align: top;\n",
       "    }\n",
       "\n",
       "    .dataframe thead th {\n",
       "        text-align: right;\n",
       "    }\n",
       "</style>\n",
       "<table border=\"1\" class=\"dataframe\">\n",
       "  <thead>\n",
       "    <tr style=\"text-align: right;\">\n",
       "      <th></th>\n",
       "      <th>Total</th>\n",
       "      <th>CRE</th>\n",
       "      <th>CACC</th>\n",
       "      <th>REP</th>\n",
       "      <th>CVER</th>\n",
       "      <th>VER</th>\n",
       "      <th>N</th>\n",
       "    </tr>\n",
       "  </thead>\n",
       "  <tbody>\n",
       "    <tr>\n",
       "      <th>Author information</th>\n",
       "      <td>25</td>\n",
       "      <td>25</td>\n",
       "      <td>0</td>\n",
       "      <td>0</td>\n",
       "      <td>0</td>\n",
       "      <td>0</td>\n",
       "      <td>0</td>\n",
       "    </tr>\n",
       "    <tr>\n",
       "      <th>Software links</th>\n",
       "      <td>2</td>\n",
       "      <td>0</td>\n",
       "      <td>1</td>\n",
       "      <td>1</td>\n",
       "      <td>0</td>\n",
       "      <td>0</td>\n",
       "      <td>0</td>\n",
       "    </tr>\n",
       "    <tr>\n",
       "      <th>Version information</th>\n",
       "      <td>17</td>\n",
       "      <td>0</td>\n",
       "      <td>0</td>\n",
       "      <td>0</td>\n",
       "      <td>14</td>\n",
       "      <td>3</td>\n",
       "      <td>0</td>\n",
       "    </tr>\n",
       "    <tr>\n",
       "      <th>No information</th>\n",
       "      <td>42</td>\n",
       "      <td>0</td>\n",
       "      <td>0</td>\n",
       "      <td>0</td>\n",
       "      <td>0</td>\n",
       "      <td>0</td>\n",
       "      <td>42</td>\n",
       "    </tr>\n",
       "  </tbody>\n",
       "</table>\n",
       "</div>"
      ],
      "text/plain": [
       "                     Total CRE CACC REP CVER VER   N\n",
       "Author information      25  25    0   0    0   0   0\n",
       "Software links           2   0    1   1    0   0   0\n",
       "Version information     17   0    0   0   14   3   0\n",
       "No information          42   0    0   0    0   0  42"
      ]
     },
     "execution_count": 22,
     "metadata": {},
     "output_type": "execute_result"
    }
   ],
   "source": [
    "# NaN values in dataframe should be filled with zeroes, and dataframe should be transposed\n",
    "df2 = pd.DataFrame(clusters).fillna(0).transpose()\n",
    "# Drop the unneeded column showing the annotations belonging to a category\n",
    "df2 = df2.drop(['annos'], axis=1)\n",
    "# Add a column showing the category total, summing up the counts of the single subcategories\n",
    "df2.insert(0, 'Total', df2.sum(axis=1, skipna=True).astype(int))\n",
    "df2"
   ]
  },
  {
   "cell_type": "markdown",
   "metadata": {},
   "source": [
    "Render the new dataframe as a LaTeX table."
   ]
  },
  {
   "cell_type": "code",
   "execution_count": 23,
   "metadata": {},
   "outputs": [
    {
     "name": "stdout",
     "output_type": "stream",
     "text": [
      "\\begin{tabular}{rccccccc}\n",
      "\\toprule\n",
      " Total & CRE & CACC & REP & CVER & VER &  N \\\\\n",
      "\\midrule\n",
      "    25 &  25 &    0 &   0 &    0 &   0 &  0 \\\\\n",
      "     2 &   0 &    1 &   1 &    0 &   0 &  0 \\\\\n",
      "    17 &   0 &    0 &   0 &   14 &   3 &  0 \\\\\n",
      "    42 &   0 &    0 &   0 &    0 &   0 & 42 \\\\\n",
      "\\bottomrule\n",
      "\\end{tabular}\n",
      "\n"
     ]
    }
   ],
   "source": [
    "print(df2.to_latex(index=False, column_format='rccccccc'))"
   ]
  },
  {
   "cell_type": "markdown",
   "metadata": {},
   "source": [
    "Render this more nicely as a stacked bar plot."
   ]
  },
  {
   "cell_type": "code",
   "execution_count": 24,
   "metadata": {},
   "outputs": [
    {
     "name": "stdout",
     "output_type": "stream",
     "text": [
      "                    CRE CACC REP CVER VER   N\n",
      "Software links        0    1   1    0   0   0\n",
      "Version information   0    0   0   14   3   0\n",
      "Author information   25    0   0    0   0   0\n",
      "No information        0    0   0    0   0  42\n",
      "[ 0.  0. 25.  0.]\n",
      "[1. 0. 0. 0.]\n",
      "[1. 0. 0. 0.]\n",
      "[ 0. 14.  0.  0.]\n",
      "[0. 3. 0. 0.]\n",
      "[ 0.  0.  0. 42.]\n"
     ]
    },
    {
     "data": {
      "image/png": "[encoded data removed]",
      "text/plain": [
       "<Figure size 648x216 with 1 Axes>"
      ]
     },
     "metadata": {
      "needs_background": "light"
     },
     "output_type": "display_data"
    }
   ],
   "source": [
    "%matplotlib inline\n",
    "\n",
    "# Use matplotlib to create this and following plots\n",
    "import matplotlib\n",
    "matplotlib.use(\"pgf\")\n",
    "matplotlib.rcParams.update(\n",
    "    {\n",
    "        # Adjust to your LaTex-Engine\n",
    "        \"pgf.texsystem\": \"pdflatex\",\n",
    "        \"font.family\": \"serif\",\n",
    "        \"text.usetex\": True,\n",
    "        \"pgf.rcfonts\": False,\n",
    "        \"axes.unicode_minus\": False,\n",
    "    }\n",
    ")\n",
    "import matplotlib.pyplot as plt\n",
    "\n",
    "# Sort by category total in decending order\n",
    "df2.sort_values(by=['Total'], inplace=True, ascending=True)\n",
    "\n",
    "# Collect columns to render (exclude Total)\n",
    "plot_cols = [col for col in df2.columns.tolist() if col not in ['Total']]\n",
    "\n",
    "# Colourblind/-friendly colours adapted from https://gist.github.com/thriveth/8560036\n",
    "my_colors = ['#4daf4a', '#f781bf', '#e41a1c', '#984ea3', '#999999', '#a65628']\n",
    "\n",
    "# Create the plot\n",
    "print(df2[plot_cols])\n",
    "ax = df2[plot_cols].plot(kind='barh', stacked=True, figsize=(9,3), color=my_colors)\n",
    "plt.tight_layout()\n",
    "\n",
    "# Add a title and rotate the x-axis labels to be horizontal\n",
    "plt.title('Mention features by annotation')\n",
    "plt.xticks(rotation=0, ha='center')\n",
    "plt.xlabel('No. of mentions in our sample')\n",
    "\n",
    "# Add labels to bar sections, unless the value is 0\n",
    "for c in ax.containers:\n",
    "    print(c.datavalues)\n",
    "    ax.bar_label(c, labels = ['' if v == 0 else int(v) for v in c.datavalues], label_type='center')\n",
    "    \n",
    "# Save the plot\n",
    "plt.tight_layout()\n",
    "# Save as pgf\n",
    "plt.savefig('mentions-by-annotation.pgf')\n",
    "# Show the plot\n",
    "plt.show()"
   ]
  },
  {
   "cell_type": "markdown",
   "metadata": {},
   "source": [
    "Analyse feature distribution over mention types."
   ]
  },
  {
   "cell_type": "code",
   "execution_count": 30,
   "metadata": {},
   "outputs": [
    {
     "ename": "KeyError",
     "evalue": "'annos'",
     "output_type": "error",
     "traceback": [
      "\u001b[0;31m---------------------------------------------------------------------------\u001b[0m",
      "\u001b[0;31mKeyError\u001b[0m                                  Traceback (most recent call last)",
      "\u001b[0;32m/tmp/ipykernel_259/678639651.py\u001b[0m in \u001b[0;36m<module>\u001b[0;34m\u001b[0m\n\u001b[1;32m     15\u001b[0m         \u001b[0;32mfor\u001b[0m \u001b[0mcategory\u001b[0m \u001b[0;32min\u001b[0m \u001b[0mclusters\u001b[0m\u001b[0;34m:\u001b[0m\u001b[0;34m\u001b[0m\u001b[0;34m\u001b[0m\u001b[0m\n\u001b[1;32m     16\u001b[0m             \u001b[0;31m# Find the cluster the annotation we look at belongs to\u001b[0m\u001b[0;34m\u001b[0m\u001b[0;34m\u001b[0m\u001b[0;34m\u001b[0m\u001b[0m\n\u001b[0;32m---> 17\u001b[0;31m             \u001b[0;32mif\u001b[0m \u001b[0macc\u001b[0m \u001b[0;32min\u001b[0m \u001b[0mclusters\u001b[0m\u001b[0;34m[\u001b[0m\u001b[0mcategory\u001b[0m\u001b[0;34m]\u001b[0m\u001b[0;34m[\u001b[0m\u001b[0;34m'annos'\u001b[0m\u001b[0;34m]\u001b[0m\u001b[0;34m:\u001b[0m\u001b[0;34m\u001b[0m\u001b[0;34m\u001b[0m\u001b[0m\n\u001b[0m\u001b[1;32m     18\u001b[0m                 \u001b[0;32mfor\u001b[0m \u001b[0mtyp\u001b[0m \u001b[0;32min\u001b[0m \u001b[0mtyp_vals\u001b[0m\u001b[0;34m:\u001b[0m\u001b[0;34m\u001b[0m\u001b[0;34m\u001b[0m\u001b[0m\n\u001b[1;32m     19\u001b[0m                     \u001b[0;31m# Set up filters to find the single row for this combination of\u001b[0m\u001b[0;34m\u001b[0m\u001b[0;34m\u001b[0m\u001b[0;34m\u001b[0m\u001b[0m\n",
      "\u001b[0;31mKeyError\u001b[0m: 'annos'"
     ]
    }
   ],
   "source": [
    "# Create a new dataframe and initialize it with the columns we want\n",
    "typ_cols = ['cat', 'subcat', 'feature', 'count']\n",
    "typ_df = pd.DataFrame(columns=typ_cols)\n",
    "\n",
    "# Re-cluster, but this time also record mention type\n",
    "# We need a new map from features to mention types, and from single annotations to mention types\n",
    "for i in df.index:\n",
    "    # Get single values for feature annotations and mention types\n",
    "    acc_raw = df['Accessibility and Principledness'][i]\n",
    "    acc_vals = explode_list(acc_raw)\n",
    "    typ_raw = df['Mention Type'][i]\n",
    "    typ_vals = explode_list(typ_raw)\n",
    "    # Dive into the feature annotations\n",
    "    for acc in acc_vals:\n",
    "        for category in clusters:\n",
    "            # Find the cluster the annotation we look at belongs to\n",
    "            if acc in clusters[category]['annos']:\n",
    "                for typ in typ_vals:\n",
    "                    # Set up filters to find the single row for this combination of \n",
    "                    # category, annotation and mention type\n",
    "                    mf_1 = typ_df['cat'] == category\n",
    "                    mf_2 = typ_df['subcat'] == acc\n",
    "                    mf_3 = typ_df['feature'] == typ\n",
    "                    # Get index of the single filtered row\n",
    "                    indices = typ_df.index[mf_1 & mf_2 & mf_3].tolist()\n",
    "                    # There shold either be a single row, or the row doesn't yet exist. not exist\n",
    "                    # Assert this.\n",
    "                    assert len(indices) in [0, 1]\n",
    "                    target_row = typ_df.loc[mf_1 & mf_2 & mf_3]\n",
    "                    if target_row.empty:\n",
    "                        # Initialize a new row with a count of 1.\n",
    "                        typ_df.loc[len(typ_df.index)] = [category, acc, typ, 1]\n",
    "                    else:\n",
    "                        # Double-check that there is exactly 1 row found, and up the count by 1\n",
    "                        assert len(indices) == 1\n",
    "                        typ_df.at[indices[0], 'count'] += 1\n",
    "\n",
    "# Sort the dataframe\n",
    "typ_df.sort_values(by=['cat', 'subcat', 'feature'], inplace=True)\n",
    "# Create a new dataframe with hierarchical indices for sanity check\n",
    "multi_df = typ_df.set_index(['cat', 'subcat', 'feature', 'count'])\n",
    "# Create a new dataframe that we'll use to plot the results\n",
    "plot_df = typ_df.sort_values(by=['feature', 'cat', 'subcat', 'count'])\n",
    "# Show the saniy check dataframe\n",
    "multi_df"
   ]
  },
  {
   "cell_type": "code",
   "execution_count": 26,
   "metadata": {},
   "outputs": [],
   "source": [
    "# Prepare a set and a list of mention types\n",
    "types = set()\n",
    "for values in df['Mention Type'].unique():\n",
    "    types.update(explode_list(values))\n",
    "types_list = list(types)\n",
    "# Prepare a set and a list of accessibility annotations\n",
    "annos = set()\n",
    "for values in df['Accessibility and Principledness'].unique():\n",
    "    annos.update(explode_list(values))\n",
    "annos_list = list(annos)"
   ]
  },
  {
   "cell_type": "code",
   "execution_count": 27,
   "metadata": {},
   "outputs": [
    {
     "data": {
      "image/png": "[encoded data removed]",
      "text/plain": [
       "<Figure size 720x1008 with 5 Axes>"
      ]
     },
     "metadata": {
      "needs_background": "light"
     },
     "output_type": "display_data"
    }
   ],
   "source": [
    "%matplotlib inline\n",
    "# Set the colourblind-accessible colours as default colours\n",
    "matplotlib.rcParams['axes.prop_cycle'] = matplotlib.cycler(color=my_colors) \n",
    "# Reindex the plotting dataframe\n",
    "plot_df = plot_df.reindex(columns=['feature', 'cat', 'subcat', 'count'])\n",
    "\n",
    "# Prepare a data structure to be filled from the original dataframe\n",
    "typ_cluster = {\n",
    "    'Author information': {'CRE': {}},\n",
    "    'Software links': {'CACC': {}, 'REP': {}},\n",
    "    'Version information': {'VER': {}, 'CVER': {}},\n",
    "    'No information': {'N': {}}\n",
    "}\n",
    "\n",
    "# We'll have more than one cluster, prepare a dict\n",
    "clusters = {}\n",
    "\n",
    "# Use the copy package to deep copy the cluster data structure\n",
    "import copy\n",
    "\n",
    "for typ in types:\n",
    "    # Create a deep copy of the data structure to take up values for this mention type\n",
    "    _cl = copy.deepcopy(typ_cluster)\n",
    "    # Create a dedicated dataframe for this mention type\n",
    "    typ_df = plot_df.loc[plot_df['feature'] == typ]\n",
    "    # Iterate through the data type and count occurrences\n",
    "    for i, row in typ_df.iterrows():\n",
    "        _cl[row['cat']][row['subcat']] = row['count']\n",
    "    # Add the data structure to the clusters dict\n",
    "    clusters[typ]= _cl\n",
    "\n",
    "# Prepare 5 vertically stacked subplots for the 5 clusters, which share the x axis\n",
    "fig, axes = plt.subplots(nrows = 5, sharex = True, figsize=(10,14))\n",
    "plt.suptitle('Distribution of mention features over mention types', y=1.01, fontsize='x-large')\n",
    "\n",
    "# Set up a colour dict, so that the bars for each feature always have the same colour\n",
    "color_dict = {'CRE': my_colors[0], 'CACC': my_colors[1], 'REP': my_colors[2], 'VER': my_colors[3], 'CVER': my_colors[4], 'N': my_colors[5]}\n",
    "\n",
    "for i, cl in enumerate(clusters.items()):\n",
    "    # Get data for the respective cluster\n",
    "    typ = cl[0]\n",
    "    _df = pd.DataFrame(cl[1]).transpose()\n",
    "    # Create a horizontal bar plot for the data\n",
    "    _ax = _df.plot(kind='barh', stacked=True, color=color_dict, ax=axes[i])\n",
    "    _ax.set_title('Mention features for ' + typ, y=1.03, pad=-14, fontsize='small')\n",
    "    plt.xticks(rotation=0, ha='center')\n",
    "    plt.xlabel('Number of features found for mention types.', fontsize='large')\n",
    "\n",
    "    # Add values to bar sections\n",
    "    for c in _ax.containers:\n",
    "        _ax.bar_label(c, labels = ['' if v == 0 else int(v) for v in c.datavalues], label_type='center')\n",
    "\n",
    "# Remove the legends from all plots to use a single legend instead\n",
    "for ax in fig.axes:\n",
    "    ax.get_legend().remove()\n",
    "\n",
    "# Create elements for the legend\n",
    "from matplotlib.patches import Patch\n",
    "legend_elements = []\n",
    "for anno in annos:\n",
    "    legend_elements.append(Patch(facecolor=color_dict[anno], label=anno))\n",
    "\n",
    "# Create the unified legend for the subplots\n",
    "fig.legend(handles=legend_elements, ncol=6, \n",
    "           bbox_to_anchor=(.5, .97),\n",
    "           loc='lower left', \n",
    "           fontsize='small')\n",
    "\n",
    "# Format, save, and show plot\n",
    "plt.tight_layout()\n",
    "plt.savefig('features-over-mentions.pgf')\n",
    "plt.show()"
   ]
  },
  {
   "cell_type": "markdown",
   "metadata": {},
   "source": [
    "Create a bubble plot to show accessibility over mention types and feature annotations."
   ]
  },
  {
   "cell_type": "code",
   "execution_count": 28,
   "metadata": {},
   "outputs": [
    {
     "data": {
      "text/plain": [
       "<Figure size 1440x864 with 0 Axes>"
      ]
     },
     "metadata": {},
     "output_type": "display_data"
    },
    {
     "data": {
      "image/png": "[encoded data removed]",
      "text/plain": [
       "<Figure size 432x288 with 1 Axes>"
      ]
     },
     "metadata": {
      "needs_background": "light"
     },
     "output_type": "display_data"
    }
   ],
   "source": [
    "# Create a dict to take up data\n",
    "access_data = {}\n",
    "# Copy the original dataframe and replace NaN values with 'N'\n",
    "access_df = copy.deepcopy(df).fillna('N')\n",
    "\n",
    "# Iterate through the dataframe rows to fil the data structure\n",
    "for i in access_df.index:\n",
    "    # Get mention type first\n",
    "    typ_raw = access_df['Mention Type'][i]\n",
    "    # Can be a comma-separated list, so explode that\n",
    "    typs = explode_list(typ_raw)\n",
    "    for typ in typs:\n",
    "        # Get the respective dict for the mention type, or create it in the first place\n",
    "        if typ in access_data.keys():\n",
    "            typ_dict = access_data[typ]\n",
    "        else:\n",
    "            typ_dict = access_data[typ] = {}\n",
    "        # Get feature annotations\n",
    "        anno_raw = access_df['Accessibility and Principledness'][i]\n",
    "        # Can be a comma-separated list, so explode that\n",
    "        feature_annos = explode_list(anno_raw)\n",
    "        # Make sure that there is a dict with zero values for all cells\n",
    "        for anno_val in annos:\n",
    "            if anno_val not in typ_dict.keys():\n",
    "                typ_dict[anno_val] = {'I': 0, 'D': 0}\n",
    "        # Count the occurrences of feature annotations\n",
    "        for anno in feature_annos:\n",
    "            # The dict for this feature annotation is guaranteed to exist now\n",
    "            anno_dict = typ_dict[anno]\n",
    "            # Get the access annotation for this row\n",
    "            access = access_df['Access'][i]\n",
    "            # 'N' values represent 0 anyway, so ignore them\n",
    "            if not access == 'N':\n",
    "                # Initialize or up the count for the respective access annotation\n",
    "                if access in anno_dict.keys():\n",
    "                    anno_dict[access] += 1\n",
    "                else:\n",
    "                    anno_dict[access] = 1\n",
    "                    \n",
    "# Initialize lists to be used in the plot\n",
    "type_list = []\n",
    "feature_list = []\n",
    "indirect_list = []\n",
    "direct_list = []\n",
    "\n",
    "# Fill the lists with the respective values for each row\n",
    "for typ in access_data.items():\n",
    "    typ_val = typ[0]\n",
    "    for feature in typ[1].items():\n",
    "        feature_val = feature[0]\n",
    "        type_list.append(typ_val)\n",
    "        feature_list.append(feature_val)\n",
    "        indirect_list.append(feature[1]['I'])\n",
    "        direct_list.append(feature[1]['D'])\n",
    "\n",
    "# Create a dataframe from the lists to be used for the plot\n",
    "access_plot_df = pd.DataFrame({'Type': type_list,\n",
    "                               'Feature': feature_list,\n",
    "                               'Indirect access': indirect_list,\n",
    "                               'Direct access': direct_list\n",
    "                              })\n",
    "\n",
    "# Create the plot\n",
    "plt.figure(figsize=(20,12))\n",
    "fig, ax = plt.subplots()\n",
    "# Scatter plot the two different access types\n",
    "plt.scatter(type_list, feature_list, s=np.asarray(direct_list)*2000, c='#E66100', alpha=0.5, \n",
    "            edgecolors=\"grey\", linewidth=2, marker='s')\n",
    "plt.scatter(type_list, feature_list, s=np.asarray(indirect_list)*2000, c='#5D3A9B', alpha=0.5, \n",
    "            edgecolors=\"grey\", linewidth=2, marker='o')\n",
    " \n",
    "# Add titles (main and on axis)\n",
    "plt.xlabel('Mention types')\n",
    "plt.ylabel('Mention features')\n",
    "plt.title('Direct and indirect access to source code for mention types and features', y=1.01, fontsize='x-large')\n",
    "# Make sure the ticks are far enough from the splines to fully show\n",
    "plt.margins(.2)\n",
    "\n",
    "# Add a legend\n",
    "from matplotlib.patches import Patch\n",
    "legend_elements = [Patch(facecolor='#E66100', label='Direct access'),\n",
    "                   Patch(facecolor='#5D3A9B', label='Indirect access')]\n",
    "\n",
    "# Create the legend\n",
    "fig.legend(handles=legend_elements, ncol=6, \n",
    "           bbox_to_anchor=(.35, .97),\n",
    "           loc='lower left', \n",
    "           fontsize='small')\n",
    "\n",
    "\n",
    "# Format, save, and show the graph\n",
    "plt.tight_layout()\n",
    "plt.savefig('access-bubble-plot.pgf')\n",
    "plt.show()\n"
   ]
  },
  {
   "cell_type": "code",
   "execution_count": null,
   "metadata": {},
   "outputs": [],
   "source": []
  }
 ],
 "metadata": {
  "celltoolbar": "Raw Cell Format",
  "kernelspec": {
   "display_name": "Python 3 (ipykernel)",
   "language": "python",
   "name": "python3"
  },
  "language_info": {
   "codemirror_mode": {
    "name": "ipython",
    "version": 3
   },
   "file_extension": ".py",
   "mimetype": "text/x-python",
   "name": "python",
   "nbconvert_exporter": "python",
   "pygments_lexer": "ipython3",
   "version": "3.8.10"
  }
 },
 "nbformat": 4,
 "nbformat_minor": 4
}
