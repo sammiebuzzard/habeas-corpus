{
 "cells": [
  {
   "cell_type": "markdown",
   "metadata": {},
   "source": [
    "# CORD-19 Software Mentions - Access Study"
   ]
  },
  {
   "cell_type": "markdown",
   "metadata": {},
   "source": [
    "## Relation between citation characteristics and accessibility for analysis (RQ2)\n",
    "\n",
    "In order to understand research software projects better, e.g., to\n",
    "determine the qualities and characteristics that make research software projects\n",
    "successful under a given definition of success, or that help make them sustainable,\n",
    "or that underlie their collapse, access to their source code repositories is needed.\n",
    "We wanted to find out which characteristics of software citations enable this access,\n",
    "and how they relate to adherence to the software citation principles.\n",
    "\n",
    "Some observable qualities of software mentions and citations can be linked to\n",
    "adherence to the software citation principles:\n",
    "a citation to software follows the principle of *Importance*, \n",
    "not mentioning a software violates that principle; \n",
    "identifying authors in references follows the *Credit and attribution* principle; \n",
    "providing access to a persistently archived version of source code in citations or references follows the *Persistence* principle; \n",
    "providing access to the source code more generally follows the *Accessibility* principle,\n",
    "which is the one that this question is most concerned with;\n",
    "providing version information for software that was used follows the *Specificity* principle.\n",
    "\n",
    "The results of this part of the study would provide evidence concerning the suitability\n",
    "of the software citation principles for software accessibility."
   ]
  },
  {
   "cell_type": "markdown",
   "metadata": {},
   "source": [
    "## Methodology\n",
    "\n",
    "The dataset of 80 software mentions was manually annotated by SD to\n",
    "classify for adherence to the software citation principles, and the\n",
    "possibility to directly or indirectly access the source code of the\n",
    "mentioned software.\n",
    "The table below presents the annotations for\n",
    "mention features that were actually found in the dataset. The dataset\n",
    "itself is available as *CSM\\_sampled\\_mention\\_access.csv*.\n",
    "\n",
    "  | Code |   Description |\n",
    "  | :--- | :--- |\n",
    "  | VER | Version information in reference\n",
    "  | CVER | Version information near mention\n",
    "  | CRE | Information in reference allowing for personal credit\n",
    "  | REP | Link to community repository in reference\n",
    "  | CACC | Link to source code near mention\n",
    "\n",
    "> Table: Annotations for accessibility\n",
    "  and adherence to the software citation principles, for which\n",
    "  respective mention features could be found in our dataset."
   ]
  },
  {
   "cell_type": "code",
   "execution_count": null,
   "metadata": {},
   "outputs": [],
   "source": [
    "import pandas as pd\n",
    "import numpy as np"
   ]
  },
  {
   "cell_type": "code",
   "execution_count": null,
   "metadata": {},
   "outputs": [],
   "source": [
    "input_data = \"../data/license_study/CSM_sampled_mention_license.csv\"\n"
   ]
  },
  {
   "cell_type": "code",
   "execution_count": null,
   "metadata": {},
   "outputs": [],
   "source": [
    "df = pd.read_csv (r'../data/license_study/CSM_sampled_mention_license.csv')\n",
    "print (df)"
   ]
  },
  {
   "cell_type": "code",
   "execution_count": null,
   "metadata": {},
   "outputs": [],
   "source": [
    "df.groupby(['Software License'])[['ID']].count()"
   ]
  },
  {
   "cell_type": "code",
   "execution_count": null,
   "metadata": {},
   "outputs": [],
   "source": [
    "df.groupby(['Software License', 'Mention Type'])[['ID']].count()"
   ]
  },
  {
   "cell_type": "code",
   "execution_count": null,
   "metadata": {},
   "outputs": [],
   "source": [
    "# SUM(COUNTIFS('License breakdown (old)'!$E$2:$E$69,\"*PUB*\",'License breakdown (old)'!$D$2:$D$69,{\"Apache\",\"Artistic\",\"BSD\",\"MIT\",\"Unlimited\"}))\n",
    "\n",
    "lictype_closed = {\"Closed\"}\n",
    "lictype_academic = {\"Academic\"}\n",
    "lictype_permissive = {\"Apache\",\"Artistic\",\"BSD\",\"MIT\",\"Unlimited\"}\n",
    "lictype_copyleft = {\"GPL\",\"LGPL\"}\n",
    "lictype_unknown = {\"Unknown\",\"Unknown (SaaS)\"}\n",
    "\n",
    "results = {\"Closed\": {\"lictypes\": {\"Closed\"}},\n",
    "           \"Academic\": {\"lictypes\": {\"Academic\"}},\n",
    "           \"Permissive\": {\"lictypes\": {\"Apache\",\"Artistic\",\"BSD\",\"MIT\",\"Unlimited\"}},\n",
    "           \"Copyleft\": {\"lictypes\": {\"GPL\",\"LGPL\"}},\n",
    "           \"Unknown\": {\"lictypes\": {\"Unknown\",\"Unknown (SaaS)\"}}\n",
    "          }\n",
    "\n",
    "def cluster_mentions(mention, res):\n",
    "    types = {\"PUB\",\"MAN\",\"PRO\",\"INS\",\"URL\",\"NAM\",\"NOT\"}    \n",
    "    for type in types:\n",
    "        if type in mention:\n",
    "            if type in res:\n",
    "                res[type] +=1\n",
    "                #print(\"Assigning to \", type, \"value is \", res[type])\n",
    "            else:\n",
    "                res[type] = 1\n",
    "                #print(\"Assigning to \", type, \"value is \",res[type])\n",
    "\n",
    "for i in df.index:\n",
    "    for classification in results:\n",
    "        if df['Software License'][i] in results[classification]['lictypes']:\n",
    "            #print (\"Index: \", i, \"Software Title: \", df['Title'][i], \"License Type: \", classification, \"Mention Type: \", df['Mention Type'][i])\n",
    "            cluster_mentions(df['Mention Type'][i], results[classification])\n",
    "            #print(results)\n",
    "            \n",
    "            \n",
    "print(results)    "
   ]
  },
  {
   "cell_type": "code",
   "execution_count": null,
   "metadata": {},
   "outputs": [],
   "source": [
    "df2 = pd.DataFrame(results).fillna(0).transpose()\n",
    "print(df2)\n"
   ]
  },
  {
   "cell_type": "code",
   "execution_count": null,
   "metadata": {},
   "outputs": [],
   "source": [
    "df2 = df2.drop(['lictypes'], axis=1)\n"
   ]
  },
  {
   "cell_type": "code",
   "execution_count": null,
   "metadata": {},
   "outputs": [],
   "source": [
    "df2['Total'] = df2.sum(axis=1)\n",
    "print(df2)"
   ]
  },
  {
   "cell_type": "code",
   "execution_count": null,
   "metadata": {},
   "outputs": [],
   "source": []
  }
 ],
 "metadata": {
  "kernelspec": {
   "display_name": "Python 3 (ipykernel)",
   "language": "python",
   "name": "python3"
  },
  "language_info": {
   "codemirror_mode": {
    "name": "ipython",
    "version": 3
   },
   "file_extension": ".py",
   "mimetype": "text/x-python",
   "name": "python",
   "nbconvert_exporter": "python",
   "pygments_lexer": "ipython3",
   "version": "3.8.10"
  }
 },
 "nbformat": 4,
 "nbformat_minor": 4
}
