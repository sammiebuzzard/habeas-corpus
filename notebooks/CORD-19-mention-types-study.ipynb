{
 "cells": [
  {
   "cell_type": "markdown",
   "id": "bcb3e5ba",
   "metadata": {},
   "source": [
    "We have classified a subset of 80 software mentions from a random sample of 100 software mention candidates from the CORD-19 dataset by mention type.\n",
    "The mention types are those used in Howison & Bullard 2015 (doi:10.1002/asi.23538).\n",
    "We did not use the following annotations:\n",
    "- *Cite to users manual*\n",
    "The mention types we found are listed in a table extracted from the annotated dataset used in the access study."
   ]
  },
  {
   "cell_type": "code",
   "execution_count": null,
   "id": "dd566b3d",
   "metadata": {},
   "outputs": [],
   "source": [
    "import pandas as pd\n",
    "\n",
    "# Read the dataset\n",
    "df = pd.read_csv(r'../data/access_study/CSM_sampled_mention_access.csv', encoding='unicode_escape', engine='python', index_col=False).fillna(0)\n",
    "# Get the raw annotations for mention type\n",
    "raw_types = df['Mention Type']\n",
    "mentions_total = len(raw_types)\n",
    "print(mentions_total)\n",
    "# Build a list of single types, i.e., split and strip comma-separated values\n",
    "types = []\n",
    "for separated in raw_types:\n",
    "    vals = separated.split(',')\n",
    "    vals = [v.strip() for v in vals]\n",
    "    types.extend(vals)\n",
    "# Create a dataframe for just the single types, sorted alphabetically\n",
    "type_df = pd.DataFrame(data=types, columns=['Type']).sort_values(by='Type')\n",
    "# Create a new dataframe including the counts for the single types\n",
    "counts_df = pd.DataFrame(type_df['Type'].value_counts())\n",
    "counts_df.rename(columns = {'Type':'Mentions in our dataset sample'}, inplace=True)\n",
    "# Insert the actual types, which are the index right now, into its own column\n",
    "counts_df.insert(0, 'Type',counts_df.index)\n",
    "# Add the values from the Howison & Bullard paper, normalized against the number of mentions (80, in 'mentions_totla') in our dataset sample\n",
    "\n",
    "counts_df"
   ]
  },
  {
   "cell_type": "code",
   "execution_count": null,
   "id": "7f7cfa41",
   "metadata": {},
   "outputs": [],
   "source": [
    "# Render as LaTeX table\n",
    "print(unique_types.to_latex(column_format='rl'))"
   ]
  },
  {
   "cell_type": "code",
   "execution_count": null,
   "id": "595271e5",
   "metadata": {},
   "outputs": [],
   "source": []
  }
 ],
 "metadata": {
  "kernelspec": {
   "display_name": "Python 3 (ipykernel)",
   "language": "python",
   "name": "python3"
  },
  "language_info": {
   "codemirror_mode": {
    "name": "ipython",
    "version": 3
   },
   "file_extension": ".py",
   "mimetype": "text/x-python",
   "name": "python",
   "nbconvert_exporter": "python",
   "pygments_lexer": "ipython3",
   "version": "3.8.10"
  }
 },
 "nbformat": 4,
 "nbformat_minor": 5
}
