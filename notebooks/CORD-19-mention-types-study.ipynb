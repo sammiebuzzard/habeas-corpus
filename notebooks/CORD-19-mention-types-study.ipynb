{
 "cells": [
  {
   "cell_type": "markdown",
   "id": "bcb3e5ba",
   "metadata": {},
   "source": [
    "We have classified a subset of 80 software mentions from a random sample of 100 software mention candidates from the CORD-19 dataset by mention type.\n",
    "The mention types are those used in Howison & Bullard 2015 (doi:10.1002/asi.23538).\n",
    "We did not use the following annotations:\n",
    "- *Cite to users manual*\n",
    "The mention types we found are listed in a table extracted from the annotated dataset used in the access study."
   ]
  },
  {
   "cell_type": "code",
   "execution_count": null,
   "id": "dd566b3d",
   "metadata": {},
   "outputs": [],
   "source": [
    "import pandas as pd\n",
    "\n",
    "# Read the dataset\n",
    "df = pd.read_csv(r'../data/access_study/CSM_sampled_mention_access.csv', encoding='unicode_escape', engine='python', index_col=False).fillna(0)\n",
    "# Get the raw annotations for mention type\n",
    "raw_types = df['Mention Type']\n",
    "mentions_total = len(raw_types)\n",
    "print(mentions_total)\n",
    "# Build a list of single types, i.e., split and strip comma-separated values\n",
    "types = []\n",
    "for separated in raw_types:\n",
    "    vals = separated.split(',')\n",
    "    vals = [v.strip() for v in vals]\n",
    "    types.extend(vals)\n",
    "# Create a dataframe for just the single types, sorted alphabetically\n",
    "type_df = pd.DataFrame(data=types, columns=['Type']).sort_values(by='Type')\n",
    "# Create a new dataframe including the counts for the single types\n",
    "counts_df = pd.DataFrame(type_df['Type'].value_counts())\n",
    "counts_df.rename(columns = {'Type':'our'}, inplace=True)\n",
    "# Insert the actual types, which are the index right now, into its own column\n",
    "counts_df.insert(0, 'Type',counts_df.index)\n",
    "# Add the values from the Howison & Bullard paper, normalized against the number of mentions (80, in 'mentions_totla') in our dataset sample\n",
    "\n",
    "counts_df"
   ]
  },
  {
   "cell_type": "markdown",
   "id": "3b650163",
   "metadata": {},
   "source": [
    "Add the data from Howison & Bullard 2005, Table 1."
   ]
  },
  {
   "cell_type": "code",
   "execution_count": null,
   "id": "e2c8878c",
   "metadata": {},
   "outputs": [],
   "source": [
    "hb_mentions = {\n",
    "    'PUB': 105,\n",
    "    'MAN': 6, # Citing user manual\n",
    "    'PRO': 15,\n",
    "    'INS': 53,\n",
    "    'URL': 13,\n",
    "    'NAM': 90,\n",
    "    'NEN': 4 # Not even name mentioned\n",
    "}\n",
    "\n",
    "# We have no evidence for NEN, and no occurrences of MAN, in our sample, so drop these from the H&B data\n",
    "del hb_mentions['MAN']\n",
    "del hb_mentions['NEN']\n",
    "\n",
    "hb_mentions"
   ]
  },
  {
   "cell_type": "markdown",
   "id": "fcd968f3",
   "metadata": {},
   "source": [
    "Now add normalize the H&B data, and add it to the existing dataframe."
   ]
  },
  {
   "cell_type": "code",
   "execution_count": null,
   "id": "7f615ea6",
   "metadata": {},
   "outputs": [],
   "source": [
    "# Our no. of mentions\n",
    "print('No. of mentions in our sample: ' + str(mentions_total))\n",
    "\n",
    "hb_mentions_total = sum(hb_mentions.values())\n",
    "print('No. of mentions in Howison & Bullard 2005 data: ' + str(hb_mentions_total))\n",
    "\n",
    "counts_df['hb'] = counts_df['Type'].map(hb_mentions)\n",
    "counts_df"
   ]
  },
  {
   "cell_type": "code",
   "execution_count": null,
   "id": "0d1dc9be",
   "metadata": {},
   "outputs": [],
   "source": [
    "# Calculate percentages for both datasets\n",
    "counts_df. insert(2, '%our', counts_df['our']/counts_df['our'].sum()*100)\n",
    "counts_df. insert(4, '%hb', counts_df['hb']/counts_df['hb'].sum()*100)\n",
    "counts_df['%our'] = counts_df['%our'].round(decimals = 1)\n",
    "counts_df['%hb'] = counts_df['%hb'].round(decimals = 1)\n",
    "counts_df"
   ]
  },
  {
   "cell_type": "code",
   "execution_count": null,
   "id": "cfaf3f72",
   "metadata": {},
   "outputs": [],
   "source": [
    "df_transposed = counts_df.transpose()"
   ]
  },
  {
   "cell_type": "code",
   "execution_count": null,
   "id": "6ce998b5",
   "metadata": {},
   "outputs": [],
   "source": [
    "print(df_transposed.to_latex())\n",
    "df_transposed"
   ]
  },
  {
   "cell_type": "code",
   "execution_count": null,
   "id": "f34cd991",
   "metadata": {},
   "outputs": [],
   "source": [
    "# Render the percentage data as a nice stacked bar chart\n",
    "import matplotlib\n",
    "matplotlib.use(\"pdf\")\n",
    "matplotlib.rcParams.update(\n",
    "    {\n",
    "        # Adjust to your LaTex-Engine\n",
    "        \"pgf.texsystem\": \"pdflatex\",\n",
    "        \"font.family\": \"serif\",\n",
    "        \"text.usetex\": True,\n",
    "        \"pgf.rcfonts\": False,\n",
    "        \"axes.unicode_minus\": False,\n",
    "    }\n",
    ")\n",
    "import matplotlib.pyplot as plt\n",
    "\n",
    "# Transpose dataframe\n",
    "types_df = counts_df.transpose()\n",
    "print(types_df)\n",
    "\n",
    "# Drop unneeded data\n",
    "types_df = types_df.drop(['Type', 'our', 'hb'], axis=0)\n",
    "types_df.round(1)\n",
    "print(types_df)\n",
    "\n",
    "# Collect columns to render (exclude Total)\n",
    "plot_cols = ['%our', '%hb']\n",
    "\n",
    "# Colourblind/-friendly colours adapted from https://gist.github.com/thriveth/8560036\n",
    "my_colors = ['#4daf4a', '#f781bf', '#e41a1c', '#984ea3', '#999999', '#a65628', '#dede00']\n",
    "\n",
    "# Create the plot\n",
    "ax = types_df.plot(kind='bar', stacked=True, figsize=(5,8), color=my_colors)\n",
    "print(type(ax))\n",
    "ax.legend(ncol=5, bbox_to_anchor=(0, 1),\n",
    "              loc='lower left', fontsize='small')\n",
    "\n",
    "# # Add a title and rotate the x-axis labels to be horizontal\n",
    "plt.title('Comparison of mention types', y=1.08)\n",
    "plt.xticks(rotation=45, ha='center')\n",
    "\n",
    "# plt.show()\n",
    "\n",
    "for c in ax.containers:\n",
    "    ax.bar_label(c, label_type='center')\n",
    "    \n",
    "# Save the plot\n",
    "# Fixes cropped labels\n",
    "# plt.tight_layout()\n",
    "# # Save as pgf\n",
    "# plt.savefig(\"plot.pgf\")\n",
    "# ax.figure"
   ]
  },
  {
   "cell_type": "code",
   "execution_count": null,
   "id": "9dfd8e9a",
   "metadata": {},
   "outputs": [],
   "source": []
  }
 ],
 "metadata": {
  "kernelspec": {
   "display_name": "Python 3 (ipykernel)",
   "language": "python",
   "name": "python3"
  },
  "language_info": {
   "codemirror_mode": {
    "name": "ipython",
    "version": 3
   },
   "file_extension": ".py",
   "mimetype": "text/x-python",
   "name": "python",
   "nbconvert_exporter": "python",
   "pygments_lexer": "ipython3",
   "version": "3.8.10"
  }
 },
 "nbformat": 4,
 "nbformat_minor": 5
}
