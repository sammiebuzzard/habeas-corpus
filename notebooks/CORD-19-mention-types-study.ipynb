{
 "cells": [
  {
   "cell_type": "markdown",
   "id": "bcb3e5ba",
   "metadata": {},
   "source": [
    "# CORD-19 Software Mentions mention type comparison\n",
    "\n",
    "## Comparison of CSM mention types after Howison & Bullard (2015) with Howison & Bullard\n",
    "\n",
    "We have classified a subset of 80 software mentions from a random sample of 100 software mention candidates from the CORD-19 dataset by mention type.\n",
    "The mention types are those used in Howison & Bullard 2015 (doi:10.1002/asi.23538).\n",
    "We did not use the following annotations:\n",
    "\n",
    "- *Cite to users manual*\n",
    "- *Not even name mentioned*\n",
    "\n",
    "The mention types we found are listed in a table extracted from the annotated dataset used in the access study."
   ]
  },
  {
   "cell_type": "code",
   "execution_count": 23,
   "id": "dd566b3d",
   "metadata": {},
   "outputs": [
    {
     "name": "stdout",
     "output_type": "stream",
     "text": [
      "80\n"
     ]
    },
    {
     "data": {
      "text/html": [
       "<div>\n",
       "<style scoped>\n",
       "    .dataframe tbody tr th:only-of-type {\n",
       "        vertical-align: middle;\n",
       "    }\n",
       "\n",
       "    .dataframe tbody tr th {\n",
       "        vertical-align: top;\n",
       "    }\n",
       "\n",
       "    .dataframe thead th {\n",
       "        text-align: right;\n",
       "    }\n",
       "</style>\n",
       "<table border=\"1\" class=\"dataframe\">\n",
       "  <thead>\n",
       "    <tr style=\"text-align: right;\">\n",
       "      <th></th>\n",
       "      <th>Type</th>\n",
       "      <th>our</th>\n",
       "    </tr>\n",
       "  </thead>\n",
       "  <tbody>\n",
       "    <tr>\n",
       "      <th>NAM</th>\n",
       "      <td>NAM</td>\n",
       "      <td>30</td>\n",
       "    </tr>\n",
       "    <tr>\n",
       "      <th>PUB</th>\n",
       "      <td>PUB</td>\n",
       "      <td>23</td>\n",
       "    </tr>\n",
       "    <tr>\n",
       "      <th>INS</th>\n",
       "      <td>INS</td>\n",
       "      <td>17</td>\n",
       "    </tr>\n",
       "    <tr>\n",
       "      <th>URL</th>\n",
       "      <td>URL</td>\n",
       "      <td>12</td>\n",
       "    </tr>\n",
       "    <tr>\n",
       "      <th>PRO</th>\n",
       "      <td>PRO</td>\n",
       "      <td>5</td>\n",
       "    </tr>\n",
       "  </tbody>\n",
       "</table>\n",
       "</div>"
      ],
      "text/plain": [
       "    Type  our\n",
       "NAM  NAM   30\n",
       "PUB  PUB   23\n",
       "INS  INS   17\n",
       "URL  URL   12\n",
       "PRO  PRO    5"
      ]
     },
     "execution_count": 23,
     "metadata": {},
     "output_type": "execute_result"
    }
   ],
   "source": [
    "import pandas as pd\n",
    "\n",
    "# Read the dataset\n",
    "df = pd.read_csv(r'../data/access_study/CSM_sampled_mention_access.csv', encoding='unicode_escape', engine='python', index_col=False).fillna(0)\n",
    "# Get the raw annotations for mention type\n",
    "raw_types = df['Mention Type']\n",
    "\n",
    "# Have a peep at the mention counts\n",
    "mentions_total = len(raw_types)\n",
    "print(mentions_total)\n",
    "\n",
    "# Build a list of single types, i.e., split and strip comma-separated values\n",
    "types = []\n",
    "for separated in raw_types:\n",
    "    vals = separated.split(',')\n",
    "    vals = [v.strip() for v in vals]\n",
    "    types.extend(vals)\n",
    "# Create a dataframe for just the single types, sorted alphabetically\n",
    "type_df = pd.DataFrame(data=types, columns=['Type']).sort_values(by='Type')\n",
    "# Create a new dataframe including the counts for the single types\n",
    "counts_df = pd.DataFrame(type_df['Type'].value_counts())\n",
    "counts_df.rename(columns = {'Type':'our'}, inplace=True)\n",
    "# Insert the actual types, which are the index right now, into its own column\n",
    "counts_df.insert(0, 'Type',counts_df.index)\n",
    "\n",
    "counts_df"
   ]
  },
  {
   "cell_type": "markdown",
   "id": "3b650163",
   "metadata": {},
   "source": [
    "Add the data from Howison & Bullard 2005, Table 1."
   ]
  },
  {
   "cell_type": "code",
   "execution_count": 24,
   "id": "e2c8878c",
   "metadata": {},
   "outputs": [
    {
     "data": {
      "text/plain": [
       "{'PUB': 105, 'PRO': 15, 'INS': 53, 'URL': 13, 'NAM': 90}"
      ]
     },
     "execution_count": 24,
     "metadata": {},
     "output_type": "execute_result"
    }
   ],
   "source": [
    "hb_mentions = {\n",
    "    'PUB': 105,\n",
    "    'MAN': 6, # Citing user manual\n",
    "    'PRO': 15,\n",
    "    'INS': 53,\n",
    "    'URL': 13,\n",
    "    'NAM': 90,\n",
    "    'NEN': 4 # Not even name mentioned\n",
    "}\n",
    "\n",
    "# We have no evidence for NEN, and no occurrences of MAN, in our sample, so drop these from the H&B data\n",
    "del hb_mentions['MAN']\n",
    "del hb_mentions['NEN']\n",
    "\n",
    "hb_mentions"
   ]
  },
  {
   "cell_type": "markdown",
   "id": "fcd968f3",
   "metadata": {},
   "source": [
    "Add the Howison & Bullard data to the dataframe."
   ]
  },
  {
   "cell_type": "code",
   "execution_count": 25,
   "id": "7f615ea6",
   "metadata": {},
   "outputs": [
    {
     "name": "stdout",
     "output_type": "stream",
     "text": [
      "No. of mentions in our sample: 80\n",
      "No. of mentions in Howison & Bullard 2005 data: 276\n"
     ]
    },
    {
     "data": {
      "text/html": [
       "<div>\n",
       "<style scoped>\n",
       "    .dataframe tbody tr th:only-of-type {\n",
       "        vertical-align: middle;\n",
       "    }\n",
       "\n",
       "    .dataframe tbody tr th {\n",
       "        vertical-align: top;\n",
       "    }\n",
       "\n",
       "    .dataframe thead th {\n",
       "        text-align: right;\n",
       "    }\n",
       "</style>\n",
       "<table border=\"1\" class=\"dataframe\">\n",
       "  <thead>\n",
       "    <tr style=\"text-align: right;\">\n",
       "      <th></th>\n",
       "      <th>Type</th>\n",
       "      <th>our</th>\n",
       "      <th>hb</th>\n",
       "    </tr>\n",
       "  </thead>\n",
       "  <tbody>\n",
       "    <tr>\n",
       "      <th>NAM</th>\n",
       "      <td>NAM</td>\n",
       "      <td>30</td>\n",
       "      <td>90</td>\n",
       "    </tr>\n",
       "    <tr>\n",
       "      <th>PUB</th>\n",
       "      <td>PUB</td>\n",
       "      <td>23</td>\n",
       "      <td>105</td>\n",
       "    </tr>\n",
       "    <tr>\n",
       "      <th>INS</th>\n",
       "      <td>INS</td>\n",
       "      <td>17</td>\n",
       "      <td>53</td>\n",
       "    </tr>\n",
       "    <tr>\n",
       "      <th>URL</th>\n",
       "      <td>URL</td>\n",
       "      <td>12</td>\n",
       "      <td>13</td>\n",
       "    </tr>\n",
       "    <tr>\n",
       "      <th>PRO</th>\n",
       "      <td>PRO</td>\n",
       "      <td>5</td>\n",
       "      <td>15</td>\n",
       "    </tr>\n",
       "  </tbody>\n",
       "</table>\n",
       "</div>"
      ],
      "text/plain": [
       "    Type  our   hb\n",
       "NAM  NAM   30   90\n",
       "PUB  PUB   23  105\n",
       "INS  INS   17   53\n",
       "URL  URL   12   13\n",
       "PRO  PRO    5   15"
      ]
     },
     "execution_count": 25,
     "metadata": {},
     "output_type": "execute_result"
    }
   ],
   "source": [
    "# Our no. of mentions\n",
    "print('No. of mentions in our sample: ' + str(mentions_total))\n",
    "\n",
    "# H & B number of mentions\n",
    "hb_mentions_total = sum(hb_mentions.values())\n",
    "print('No. of mentions in Howison & Bullard 2005 data: ' + str(hb_mentions_total))\n",
    "\n",
    "# Add data to dataframe\n",
    "counts_df['hb'] = counts_df['Type'].map(hb_mentions)\n",
    "counts_df"
   ]
  },
  {
   "cell_type": "markdown",
   "id": "d711ae94",
   "metadata": {},
   "source": [
    "Calculate percentages for both datasets, and add respective columns to the dataframe."
   ]
  },
  {
   "cell_type": "code",
   "execution_count": 26,
   "id": "0d1dc9be",
   "metadata": {},
   "outputs": [
    {
     "data": {
      "text/html": [
       "<div>\n",
       "<style scoped>\n",
       "    .dataframe tbody tr th:only-of-type {\n",
       "        vertical-align: middle;\n",
       "    }\n",
       "\n",
       "    .dataframe tbody tr th {\n",
       "        vertical-align: top;\n",
       "    }\n",
       "\n",
       "    .dataframe thead th {\n",
       "        text-align: right;\n",
       "    }\n",
       "</style>\n",
       "<table border=\"1\" class=\"dataframe\">\n",
       "  <thead>\n",
       "    <tr style=\"text-align: right;\">\n",
       "      <th></th>\n",
       "      <th>Type</th>\n",
       "      <th>our</th>\n",
       "      <th>%our</th>\n",
       "      <th>hb</th>\n",
       "      <th>%hb</th>\n",
       "    </tr>\n",
       "  </thead>\n",
       "  <tbody>\n",
       "    <tr>\n",
       "      <th>NAM</th>\n",
       "      <td>NAM</td>\n",
       "      <td>30</td>\n",
       "      <td>34.5</td>\n",
       "      <td>90</td>\n",
       "      <td>32.6</td>\n",
       "    </tr>\n",
       "    <tr>\n",
       "      <th>PUB</th>\n",
       "      <td>PUB</td>\n",
       "      <td>23</td>\n",
       "      <td>26.4</td>\n",
       "      <td>105</td>\n",
       "      <td>38.0</td>\n",
       "    </tr>\n",
       "    <tr>\n",
       "      <th>INS</th>\n",
       "      <td>INS</td>\n",
       "      <td>17</td>\n",
       "      <td>19.5</td>\n",
       "      <td>53</td>\n",
       "      <td>19.2</td>\n",
       "    </tr>\n",
       "    <tr>\n",
       "      <th>URL</th>\n",
       "      <td>URL</td>\n",
       "      <td>12</td>\n",
       "      <td>13.8</td>\n",
       "      <td>13</td>\n",
       "      <td>4.7</td>\n",
       "    </tr>\n",
       "    <tr>\n",
       "      <th>PRO</th>\n",
       "      <td>PRO</td>\n",
       "      <td>5</td>\n",
       "      <td>5.7</td>\n",
       "      <td>15</td>\n",
       "      <td>5.4</td>\n",
       "    </tr>\n",
       "  </tbody>\n",
       "</table>\n",
       "</div>"
      ],
      "text/plain": [
       "    Type  our  %our   hb   %hb\n",
       "NAM  NAM   30  34.5   90  32.6\n",
       "PUB  PUB   23  26.4  105  38.0\n",
       "INS  INS   17  19.5   53  19.2\n",
       "URL  URL   12  13.8   13   4.7\n",
       "PRO  PRO    5   5.7   15   5.4"
      ]
     },
     "execution_count": 26,
     "metadata": {},
     "output_type": "execute_result"
    }
   ],
   "source": [
    "counts_df. insert(2, '%our', counts_df['our']/counts_df['our'].sum()*100)\n",
    "counts_df. insert(4, '%hb', counts_df['hb']/counts_df['hb'].sum()*100)\n",
    "counts_df['%our'] = counts_df['%our'].round(decimals = 1)\n",
    "counts_df['%hb'] = counts_df['%hb'].round(decimals = 1)\n",
    "counts_df"
   ]
  },
  {
   "cell_type": "markdown",
   "id": "279fe2f7",
   "metadata": {},
   "source": [
    "Transpose the dataframe and print it as a LaTeX table."
   ]
  },
  {
   "cell_type": "code",
   "execution_count": 27,
   "id": "6ce998b5",
   "metadata": {},
   "outputs": [
    {
     "name": "stdout",
     "output_type": "stream",
     "text": [
      "\\begin{tabular}{llllll}\n",
      "\\toprule\n",
      "{} &   NAM &   PUB &   INS &   URL &  PRO \\\\\n",
      "\\midrule\n",
      "Type &   NAM &   PUB &   INS &   URL &  PRO \\\\\n",
      "our  &    30 &    23 &    17 &    12 &    5 \\\\\n",
      "\\%our &  34.5 &  26.4 &  19.5 &  13.8 &  5.7 \\\\\n",
      "hb   &    90 &   105 &    53 &    13 &   15 \\\\\n",
      "\\%hb  &  32.6 &  38.0 &  19.2 &   4.7 &  5.4 \\\\\n",
      "\\bottomrule\n",
      "\\end{tabular}\n",
      "\n"
     ]
    },
    {
     "data": {
      "text/html": [
       "<div>\n",
       "<style scoped>\n",
       "    .dataframe tbody tr th:only-of-type {\n",
       "        vertical-align: middle;\n",
       "    }\n",
       "\n",
       "    .dataframe tbody tr th {\n",
       "        vertical-align: top;\n",
       "    }\n",
       "\n",
       "    .dataframe thead th {\n",
       "        text-align: right;\n",
       "    }\n",
       "</style>\n",
       "<table border=\"1\" class=\"dataframe\">\n",
       "  <thead>\n",
       "    <tr style=\"text-align: right;\">\n",
       "      <th></th>\n",
       "      <th>NAM</th>\n",
       "      <th>PUB</th>\n",
       "      <th>INS</th>\n",
       "      <th>URL</th>\n",
       "      <th>PRO</th>\n",
       "    </tr>\n",
       "  </thead>\n",
       "  <tbody>\n",
       "    <tr>\n",
       "      <th>Type</th>\n",
       "      <td>NAM</td>\n",
       "      <td>PUB</td>\n",
       "      <td>INS</td>\n",
       "      <td>URL</td>\n",
       "      <td>PRO</td>\n",
       "    </tr>\n",
       "    <tr>\n",
       "      <th>our</th>\n",
       "      <td>30</td>\n",
       "      <td>23</td>\n",
       "      <td>17</td>\n",
       "      <td>12</td>\n",
       "      <td>5</td>\n",
       "    </tr>\n",
       "    <tr>\n",
       "      <th>%our</th>\n",
       "      <td>34.5</td>\n",
       "      <td>26.4</td>\n",
       "      <td>19.5</td>\n",
       "      <td>13.8</td>\n",
       "      <td>5.7</td>\n",
       "    </tr>\n",
       "    <tr>\n",
       "      <th>hb</th>\n",
       "      <td>90</td>\n",
       "      <td>105</td>\n",
       "      <td>53</td>\n",
       "      <td>13</td>\n",
       "      <td>15</td>\n",
       "    </tr>\n",
       "    <tr>\n",
       "      <th>%hb</th>\n",
       "      <td>32.6</td>\n",
       "      <td>38.0</td>\n",
       "      <td>19.2</td>\n",
       "      <td>4.7</td>\n",
       "      <td>5.4</td>\n",
       "    </tr>\n",
       "  </tbody>\n",
       "</table>\n",
       "</div>"
      ],
      "text/plain": [
       "       NAM   PUB   INS   URL  PRO\n",
       "Type   NAM   PUB   INS   URL  PRO\n",
       "our     30    23    17    12    5\n",
       "%our  34.5  26.4  19.5  13.8  5.7\n",
       "hb      90   105    53    13   15\n",
       "%hb   32.6  38.0  19.2   4.7  5.4"
      ]
     },
     "execution_count": 27,
     "metadata": {},
     "output_type": "execute_result"
    }
   ],
   "source": [
    "df_transposed = counts_df.transpose()\n",
    "print(df_transposed.to_latex())\n",
    "df_transposed"
   ]
  },
  {
   "cell_type": "markdown",
   "id": "519f1148",
   "metadata": {},
   "source": [
    "Create a horizontal stacked bar plot to compare the mention types across the two datasets."
   ]
  },
  {
   "cell_type": "code",
   "execution_count": 28,
   "id": "f34cd991",
   "metadata": {},
   "outputs": [
    {
     "name": "stdout",
     "output_type": "stream",
     "text": [
      "\\begin{tabular}{llllll}\n",
      "\\toprule\n",
      "{} &   NAM &   PUB &   INS &   URL &  PRO \\\\\n",
      "\\midrule\n",
      "Totals (our sample)              &    30 &    23 &    17 &    12 &    5 \\\\\n",
      "\\% (our sample)                   &  34.5 &  26.4 &  19.5 &  13.8 &  5.7 \\\\\n",
      "Totals (Howison \\& Bullard(2015)) &    90 &   105 &    53 &    13 &   15 \\\\\n",
      "\\% (Howison \\& Bullard (2015))     &  32.6 &  38.0 &  19.2 &   4.7 &  5.4 \\\\\n",
      "\\bottomrule\n",
      "\\end{tabular}\n",
      "\n",
      "<class 'matplotlib.axes._subplots.AxesSubplot'>\n"
     ]
    }
   ],
   "source": [
    "import matplotlib\n",
    "matplotlib.use(\"pgf\")\n",
    "matplotlib.rcParams.update(\n",
    "    {\n",
    "        # Adjust to your LaTex-Engine\n",
    "        \"pgf.texsystem\": \"pdflatex\",\n",
    "        \"font.family\": \"serif\",\n",
    "        \"text.usetex\": True,\n",
    "        \"pgf.rcfonts\": False,\n",
    "        \"axes.unicode_minus\": False,\n",
    "    }\n",
    ")\n",
    "import matplotlib.pyplot as plt\n",
    "\n",
    "# Transpose dataframe\n",
    "types_df = counts_df.transpose()\n",
    "\n",
    "# Output table first\n",
    "tab_df = types_df.drop(['Type'], axis=0)\n",
    "tab_df = tab_df.rename(index={'our': 'Totals (our sample)', 'hb': 'Totals (Howison & Bullard(2015))', '%our': '% (our sample)', '%hb': '% (Howison & Bullard (2015))'})\n",
    "print(tab_df.to_latex())\n",
    "\n",
    "# Drop unneeded data\n",
    "types_df = types_df.drop(['Type', 'our', 'hb'], axis=0)\n",
    "types_df.round(1)\n",
    "\n",
    "# Rename cols\n",
    "types_df = types_df.rename(index={'%our': 'Our sample', '%hb': 'Howison \\&Bullard (2015)'})\n",
    "\n",
    "# Colourblind/-friendly colours adapted from https://gist.github.com/thriveth/8560036\n",
    "my_colors = ['#4daf4a', '#f781bf', '#e41a1c', '#984ea3', '#999999', '#a65628', '#dede00']\n",
    "\n",
    "# Create the plot\n",
    "ax = types_df.plot(kind='barh', \n",
    "                   stacked=True,\n",
    "                   figsize=(8, 3), \n",
    "                   color=my_colors)\n",
    "print(type(ax))\n",
    "ax.legend(ncol=5, \n",
    "          bbox_to_anchor=(0, 1),\n",
    "          loc='lower left', \n",
    "          fontsize='small')\n",
    "ax.set_xlabel('% of mentions')\n",
    "\n",
    "# Add a title and rotate the x-axis labels to be horizontal\n",
    "plt.title('Comparison of mention types', y=1.2)\n",
    "plt.xticks(rotation=0, ha='center')\n",
    "\n",
    "# Add value labels to bar sections\n",
    "for c in ax.containers:\n",
    "    ax.bar_label(c, label_type='center')\n",
    "    \n",
    "# Format, save, and show the plot\n",
    "plt.tight_layout()\n",
    "plt.savefig('mention-type-comparison.pgf')\n"
   ]
  },
  {
   "cell_type": "code",
   "execution_count": null,
   "id": "b52e9a62",
   "metadata": {},
   "outputs": [],
   "source": []
  }
 ],
 "metadata": {
  "kernelspec": {
   "display_name": "Python 3 (ipykernel)",
   "language": "python",
   "name": "python3"
  },
  "language_info": {
   "codemirror_mode": {
    "name": "ipython",
    "version": 3
   },
   "file_extension": ".py",
   "mimetype": "text/x-python",
   "name": "python",
   "nbconvert_exporter": "python",
   "pygments_lexer": "ipython3",
   "version": "3.8.10"
  }
 },
 "nbformat": 4,
 "nbformat_minor": 5
}
