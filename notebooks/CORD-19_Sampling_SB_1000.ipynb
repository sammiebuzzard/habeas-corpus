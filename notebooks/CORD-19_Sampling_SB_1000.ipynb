{
 "cells": [
  {
   "cell_type": "code",
   "execution_count": 1,
   "metadata": {},
   "outputs": [],
   "source": [
    "import numpy as np\n",
    "import pandas as pd\n",
    "import csv\n",
    "import ast\n",
    "import collections\n",
    "import matplotlib.pyplot as plt\n",
    "import random\n",
    "\n",
    "def remove_empty_spaces(dic):\n",
    "    \"\"\" Function removing an empty space at the first position of a string. \n",
    "    \"\"\"\n",
    "    for i in dic:\n",
    "        if dic[i][:1] == \" \":\n",
    "            dic[i] = dic[i].strip()\n",
    "    return dic"
   ]
  },
  {
   "cell_type": "code",
   "execution_count": 2,
   "metadata": {},
   "outputs": [
    {
     "name": "stderr",
     "output_type": "stream",
     "text": [
      "<ipython-input-2-3662412911ee>:17: MatplotlibDeprecationWarning: The 'nonposy' parameter of __init__() has been renamed 'nonpositive' since Matplotlib 3.3; support for the old name will be dropped two minor releases later.\n",
      "  plt.yscale('log', nonposy='clip')\n"
     ]
    },
    {
     "name": "stdout",
     "output_type": "stream",
     "text": [
      "558792\n"
     ]
    },
    {
     "data": {
      "image/png": "[encoded data removed]",
      "text/plain": [
       "<Figure size 432x288 with 1 Axes>"
      ]
     },
     "metadata": {
      "needs_background": "light"
     },
     "output_type": "display_data"
    }
   ],
   "source": [
    "#Take a look at the data and basic cleaning\n",
    "\n",
    "CORD19_CSV = pd.read_csv('../data/cord-19/CORD19_software_mentions.csv' , converters={'software': lambda x: x[1:-1].split(',')})\n",
    "software = CORD19_CSV.software\n",
    "software = software.explode(ignore_index = True)\n",
    "software = software.str.replace('\\'', '')\n",
    "software.value_counts(dropna=False)\n",
    "software_dict = software.to_dict()\n",
    "software_dict = remove_empty_spaces(software_dict)\n",
    "software_series = pd.Series(software_dict)\n",
    "\n",
    "#This is what our data looks like on a log scale\n",
    "#Approx 100k software\n",
    "#Approx 600k mentions\n",
    "#Note around half the data has 1 citation, around 8% >10 citations, less than 1.5% have >50\n",
    "plt.hist(software_series.value_counts(),bins=1000)\n",
    "plt.yscale('log', nonposy='clip')\n",
    "print(len(software_dict))\n"
   ]
  },
  {
   "cell_type": "code",
   "execution_count": 7,
   "metadata": {},
   "outputs": [
    {
     "name": "stderr",
     "output_type": "stream",
     "text": [
      "<ipython-input-7-d32b42d385ce>:27: MatplotlibDeprecationWarning: The 'nonposy' parameter of __init__() has been renamed 'nonpositive' since Matplotlib 3.3; support for the old name will be dropped two minor releases later.\n",
      "  plt.yscale('log', nonposy='clip')\n"
     ]
    },
    {
     "data": {
      "image/png": "[encoded data removed]",
      "text/plain": [
       "<Figure size 432x288 with 1 Axes>"
      ]
     },
     "metadata": {
      "needs_background": "light"
     },
     "output_type": "display_data"
    }
   ],
   "source": [
    "#Take random sample of data, save as CSV and perform same data cleaning as above\n",
    "\n",
    "SAMPLE_COUNT = 1000\n",
    "\n",
    "i = 0\n",
    "with open('../data/cord-19/CORD19_software_mentions.csv', 'r') as csv_file:\n",
    "    csv_reader = csv.reader(csv_file)\n",
    "    row_count = sum(1 for row in csv_reader)\n",
    "    rand_ints = random.sample(range(1, row_count), SAMPLE_COUNT)\n",
    "    with open('output_random1000.csv', 'w') as output:\n",
    "        output_writer = csv.writer(output, delimiter=',')\n",
    "        csv_file.seek(0)\n",
    "        for row in csv_reader:\n",
    "            if i == 0 or i in rand_ints:\n",
    "                output_writer.writerow(row)\n",
    "            i += 1\n",
    "            \n",
    "CORD19_CSV = pd.read_csv('output_random1000.csv' , converters={'software': lambda x: x[1:-1].split(',')})\n",
    "software = CORD19_CSV.software\n",
    "software = software.explode(ignore_index = True)\n",
    "software = software.str.replace('\\'', '')\n",
    "software.value_counts(dropna=False)\n",
    "software_dict = software.to_dict()\n",
    "software_dict = remove_empty_spaces(software_dict)\n",
    "software_series_sample = pd.Series(software_dict)\n",
    "plt.hist(software_series_sample.value_counts(),bins=1000)\n",
    "plt.yscale('log', nonposy='clip')"
   ]
  },
  {
   "cell_type": "code",
   "execution_count": 8,
   "metadata": {},
   "outputs": [
    {
     "name": "stdout",
     "output_type": "stream",
     "text": [
      "0.002549432316836582\n"
     ]
    },
    {
     "data": {
      "text/plain": [
       "[3295.600187654921, 23.814300739694083]"
      ]
     },
     "execution_count": 8,
     "metadata": {},
     "output_type": "execute_result"
    }
   ],
   "source": [
    "#Population is non-normal so to test variances use Levene's test \n",
    "#https://www.itl.nist.gov/div898/handbook/eda/section3/eda35a.htm\n",
    "\n",
    "from scipy.stats import levene\n",
    "stat,p=levene(software_series.value_counts(), software_series_sample.value_counts())\n",
    "print(p)\n",
    "#Actual values of variances\n",
    "[np.var(x, ddof=1) for x in [software_series.value_counts(), software_series_sample.value_counts()]]\n",
    "\n",
    "#Gives small p-values, populations don't have equal variances (unsurprisingly...)"
   ]
  },
  {
   "cell_type": "code",
   "execution_count": 9,
   "metadata": {},
   "outputs": [
    {
     "name": "stderr",
     "output_type": "stream",
     "text": [
      "<ipython-input-9-23fdd7b31cc9>:2: DeprecationWarning: `np.int` is a deprecated alias for the builtin `int`. To silence this warning, use `int` by itself. Doing this will not modify any behavior and is safe. When replacing `np.int`, you may wish to use e.g. `np.int64` or `np.int32` to specify the precision. If you wish to review your current use, check the release note link for additional information.\n",
      "Deprecated in NumPy 1.20; for more details and guidance: https://numpy.org/devdocs/release/1.20.0-notes.html#deprecations\n",
      "  y=(np.linspace(0,0.999999999999,len(software_series.value_counts()))*1000).astype(np.int)\n",
      "<ipython-input-9-23fdd7b31cc9>:6: MatplotlibDeprecationWarning: The 'nonposy' parameter of __init__() has been renamed 'nonpositive' since Matplotlib 3.3; support for the old name will be dropped two minor releases later.\n",
      "  plt.yscale('log', nonposy='clip')\n"
     ]
    },
    {
     "data": {
      "image/png": "[encoded data removed]",
      "text/plain": [
       "<Figure size 432x288 with 1 Axes>"
      ]
     },
     "metadata": {
      "needs_background": "light"
     },
     "output_type": "display_data"
    }
   ],
   "source": [
    "#Can create stratified sample, here the y data are bins to split the #citations. Visually it's not so different from the fully random sample. \n",
    "y=(np.linspace(0,0.999999999999,len(software_series.value_counts()))*1000).astype(np.int)\n",
    "from sklearn.model_selection import train_test_split\n",
    "X_train, X_test, y_train, y_test = train_test_split(software_series.value_counts(), y,stratify=y, test_size=1000)\n",
    "plt.hist(X_test, bins=1000)\n",
    "plt.yscale('log', nonposy='clip')"
   ]
  },
  {
   "cell_type": "code",
   "execution_count": 5,
   "metadata": {},
   "outputs": [
    {
     "name": "stdout",
     "output_type": "stream",
     "text": [
      "0.00575909174571099\n",
      "[157.94890068355463, 381.9111271271291]\n"
     ]
    }
   ],
   "source": [
    "#Does a sample look like the original (with actual tests as well as visually) if we exclude the top 100 cited?\n",
    "# -> Sometimes\n",
    "\n",
    "df_val_counts = pd.DataFrame(software.value_counts())\n",
    "df_top100=df_val_counts.nlargest(100,'software')\n",
    "df_without_top100=df_val_counts.nsmallest(len(df_val_counts)-100,'software')\n",
    "sample_1000=df_without_top100.sample(1000)\n",
    "\n",
    "\n",
    "from scipy.stats import levene\n",
    "stat,p=levene(df_without_top100.software, sample_1000.software)\n",
    "print(p)\n",
    "#Actual values of variances\n",
    "print([np.var(x, ddof=1) for x in [df_without_top100.software, sample_1000.software]])\n",
    "\n",
    "\n",
    "\n",
    "#Save these as our sample:\n",
    "\n",
    "sample_1000.to_csv('1000sample_without_top_100.csv',index=False)\n",
    "df_top100.to_csv('top_100.csv',index=False)\n"
   ]
  },
  {
   "cell_type": "code",
   "execution_count": 11,
   "metadata": {},
   "outputs": [
    {
     "data": {
      "text/html": [
       "<div>\n",
       "<style scoped>\n",
       "    .dataframe tbody tr th:only-of-type {\n",
       "        vertical-align: middle;\n",
       "    }\n",
       "\n",
       "    .dataframe tbody tr th {\n",
       "        vertical-align: top;\n",
       "    }\n",
       "\n",
       "    .dataframe thead th {\n",
       "        text-align: right;\n",
       "    }\n",
       "</style>\n",
       "<table border=\"1\" class=\"dataframe\">\n",
       "  <thead>\n",
       "    <tr style=\"text-align: right;\">\n",
       "      <th></th>\n",
       "      <th>software</th>\n",
       "    </tr>\n",
       "  </thead>\n",
       "  <tbody>\n",
       "    <tr>\n",
       "      <th>Psi</th>\n",
       "      <td>1</td>\n",
       "    </tr>\n",
       "    <tr>\n",
       "      <th>SkyGrid</th>\n",
       "      <td>1</td>\n",
       "    </tr>\n",
       "    <tr>\n",
       "      <th>Conserus</th>\n",
       "      <td>2</td>\n",
       "    </tr>\n",
       "    <tr>\n",
       "      <th>kde1d</th>\n",
       "      <td>1</td>\n",
       "    </tr>\n",
       "    <tr>\n",
       "      <th>BLAT</th>\n",
       "      <td>2</td>\n",
       "    </tr>\n",
       "    <tr>\n",
       "      <th>...</th>\n",
       "      <td>...</td>\n",
       "    </tr>\n",
       "    <tr>\n",
       "      <th>fmincon Optimization Toolbox</th>\n",
       "      <td>1</td>\n",
       "    </tr>\n",
       "    <tr>\n",
       "      <th>CPDS</th>\n",
       "      <td>4</td>\n",
       "    </tr>\n",
       "    <tr>\n",
       "      <th>SCALEPACK</th>\n",
       "      <td>1</td>\n",
       "    </tr>\n",
       "    <tr>\n",
       "      <th>GeneSpring GX</th>\n",
       "      <td>2</td>\n",
       "    </tr>\n",
       "    <tr>\n",
       "      <th>ART</th>\n",
       "      <td>1</td>\n",
       "    </tr>\n",
       "  </tbody>\n",
       "</table>\n",
       "<p>1000 rows × 1 columns</p>\n",
       "</div>"
      ],
      "text/plain": [
       "                               software\n",
       "Psi                                   1\n",
       "SkyGrid                               1\n",
       " Conserus                             2\n",
       "kde1d                                 1\n",
       " BLAT                                 2\n",
       "...                                 ...\n",
       " fmincon Optimization Toolbox         1\n",
       " CPDS                                 4\n",
       " SCALEPACK                            1\n",
       " GeneSpring GX                        2\n",
       " ART                                  1\n",
       "\n",
       "[1000 rows x 1 columns]"
      ]
     },
     "execution_count": 11,
     "metadata": {},
     "output_type": "execute_result"
    }
   ],
   "source": []
  },
  {
   "cell_type": "code",
   "execution_count": null,
   "metadata": {},
   "outputs": [],
   "source": []
  }
 ],
 "metadata": {
  "kernelspec": {
   "display_name": "Python 3",
   "language": "python",
   "name": "python3"
  },
  "language_info": {
   "codemirror_mode": {
    "name": "ipython",
    "version": 3
   },
   "file_extension": ".py",
   "mimetype": "text/x-python",
   "name": "python",
   "nbconvert_exporter": "python",
   "pygments_lexer": "ipython3",
   "version": "3.8.5"
  }
 },
 "nbformat": 4,
 "nbformat_minor": 5
}
