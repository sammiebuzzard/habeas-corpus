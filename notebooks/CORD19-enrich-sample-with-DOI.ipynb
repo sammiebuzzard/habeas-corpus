{
 "cells": [
  {
   "cell_type": "markdown",
   "id": "40136dd4",
   "metadata": {},
   "source": [
    "# CORD19 - enriching smaple with DOIs/PIDs\n",
    "\n",
    "The current two samples for the top 100, and 1000 items without the top 100, do not contain DOIs in their original form.\n",
    "\n",
    "This notebook adds one DOI per item and writes the samples to a new version file.\n",
    "\n",
    "What it does in detail is:\n",
    "\n",
    "1. Collect all PIDs for all instances of the exact software name from the original CORD-19 SM dataset,\n",
    "2. Pick one random PID\n",
    "3. Add it to the sample dataset(s)\n",
    "4. Trim the name strings in the process\n",
    "4. Write the files"
   ]
  },
  {
   "cell_type": "code",
   "execution_count": null,
   "id": "4e0c19ef",
   "metadata": {},
   "outputs": [],
   "source": [
    "import csv\n",
    "import pandas as pd\n",
    "import numpy as np\n",
    "import random"
   ]
  },
  {
   "cell_type": "code",
   "execution_count": null,
   "id": "3f4d86ab",
   "metadata": {},
   "outputs": [],
   "source": [
    "# Set paths\n",
    "top100_path = '../data/sampling/top_100.csv'\n",
    "random1k_path = '../data/sampling/1000sample_without_top_100.csv'\n",
    "csm_path = '../data/cord-19/CORD19_software_mentions.csv'"
   ]
  },
  {
   "cell_type": "code",
   "execution_count": null,
   "id": "402f94fb",
   "metadata": {},
   "outputs": [],
   "source": [
    "# Prepare dataframes\n",
    "df_csm = pd.read_csv(csm_path)\n",
    "\n",
    "df_top100 = pd.read_csv(top100_path)\n",
    "df_top100['urls'] = np.empty((len(df_top100), 0)).tolist()\n",
    "\n",
    "df_rand1k = pd.read_csv(random1k_path)\n",
    "df_rand1k['urls'] = np.empty((len(df_rand1k), 0)).tolist()"
   ]
  },
  {
   "cell_type": "code",
   "execution_count": null,
   "id": "59911343",
   "metadata": {},
   "outputs": [],
   "source": [
    "# Amend URLs in datasets, iterate the CSM once only!\n",
    "for j, csm_row in df_csm.iterrows():\n",
    "    if j % 10000 == 0:\n",
    "        print('On iteration ', j)\n",
    "    names_str = csm_row['software']\n",
    "    names = names_str.replace('[', '').replace(']', '').replace(\"'\", '').split(',')\n",
    "    names = [s.strip() for s in names]\n",
    "    # Iterate the other two dfs to match for names,\n",
    "    # and append the list of URLs to the 'urls' list\n",
    "    for i, top100_row in df_top100.iterrows():\n",
    "        top100_name = top100_row['software']\n",
    "        if top100_name in names:\n",
    "            df_top100.at[i,'urls'].append(csm_row['url'])\n",
    "    for i, rand1k_row in df_rand1k.iterrows():\n",
    "        rand1k_name = rand1k_row['software']\n",
    "        if rand1k_name in names:\n",
    "            df_rand1k.at[i,'urls'].append(csm_row['url'])"
   ]
  },
  {
   "cell_type": "code",
   "execution_count": null,
   "id": "3b2647cb",
   "metadata": {},
   "outputs": [],
   "source": [
    "# Pick a random entry in 'urls' and add to column\n",
    "for i, top100_row in df_top100.iterrows():\n",
    "    top100_row['rand_url'] = random.choice(top100_row['urls'])\n",
    "for i, rand1k_row in df_rand1k.iterrows():\n",
    "    rand1k_row['rand_url'] = random.choice(rand1k_row['urls'])"
   ]
  },
  {
   "cell_type": "code",
   "execution_count": null,
   "id": "96ae6625",
   "metadata": {},
   "outputs": [],
   "source": [
    "# Save new files\n",
    "df_top100.to_csv(top100_path[:-4] + '_urls.csv', encoding='utf8')\n",
    "df_rand1k.to_csv(random1k_path[:-4] + '_urls.csv', encoding='utf8')"
   ]
  },
  {
   "cell_type": "code",
   "execution_count": null,
   "id": "956e2a99",
   "metadata": {},
   "outputs": [],
   "source": []
  }
 ],
 "metadata": {
  "kernelspec": {
   "display_name": "Python 3 (ipykernel)",
   "language": "python",
   "name": "python3"
  },
  "language_info": {
   "codemirror_mode": {
    "name": "ipython",
    "version": 3
   },
   "file_extension": ".py",
   "mimetype": "text/x-python",
   "name": "python",
   "nbconvert_exporter": "python",
   "pygments_lexer": "ipython3",
   "version": "3.8.10"
  }
 },
 "nbformat": 4,
 "nbformat_minor": 5
}
